{
 "cells": [
  {
   "cell_type": "markdown",
   "id": "1dac8888",
   "metadata": {},
   "source": [
    "Based on: https://realpython.com/python-keras-text-classification/"
   ]
  },
  {
   "cell_type": "code",
   "execution_count": 17,
   "id": "18f9c322",
   "metadata": {},
   "outputs": [],
   "source": [
    "import sqlite3\n",
    "import pandas as pd\n",
    "\n",
    "df = pd.read_csv('preprocessed_data.csv', index_col=0)"
   ]
  },
  {
   "cell_type": "code",
   "execution_count": 18,
   "id": "736eec8a",
   "metadata": {},
   "outputs": [
    {
     "data": {
      "text/html": [
       "<style>#sk-container-id-3 {color: black;background-color: white;}#sk-container-id-3 pre{padding: 0;}#sk-container-id-3 div.sk-toggleable {background-color: white;}#sk-container-id-3 label.sk-toggleable__label {cursor: pointer;display: block;width: 100%;margin-bottom: 0;padding: 0.3em;box-sizing: border-box;text-align: center;}#sk-container-id-3 label.sk-toggleable__label-arrow:before {content: \"▸\";float: left;margin-right: 0.25em;color: #696969;}#sk-container-id-3 label.sk-toggleable__label-arrow:hover:before {color: black;}#sk-container-id-3 div.sk-estimator:hover label.sk-toggleable__label-arrow:before {color: black;}#sk-container-id-3 div.sk-toggleable__content {max-height: 0;max-width: 0;overflow: hidden;text-align: left;background-color: #f0f8ff;}#sk-container-id-3 div.sk-toggleable__content pre {margin: 0.2em;color: black;border-radius: 0.25em;background-color: #f0f8ff;}#sk-container-id-3 input.sk-toggleable__control:checked~div.sk-toggleable__content {max-height: 200px;max-width: 100%;overflow: auto;}#sk-container-id-3 input.sk-toggleable__control:checked~label.sk-toggleable__label-arrow:before {content: \"▾\";}#sk-container-id-3 div.sk-estimator input.sk-toggleable__control:checked~label.sk-toggleable__label {background-color: #d4ebff;}#sk-container-id-3 div.sk-label input.sk-toggleable__control:checked~label.sk-toggleable__label {background-color: #d4ebff;}#sk-container-id-3 input.sk-hidden--visually {border: 0;clip: rect(1px 1px 1px 1px);clip: rect(1px, 1px, 1px, 1px);height: 1px;margin: -1px;overflow: hidden;padding: 0;position: absolute;width: 1px;}#sk-container-id-3 div.sk-estimator {font-family: monospace;background-color: #f0f8ff;border: 1px dotted black;border-radius: 0.25em;box-sizing: border-box;margin-bottom: 0.5em;}#sk-container-id-3 div.sk-estimator:hover {background-color: #d4ebff;}#sk-container-id-3 div.sk-parallel-item::after {content: \"\";width: 100%;border-bottom: 1px solid gray;flex-grow: 1;}#sk-container-id-3 div.sk-label:hover label.sk-toggleable__label {background-color: #d4ebff;}#sk-container-id-3 div.sk-serial::before {content: \"\";position: absolute;border-left: 1px solid gray;box-sizing: border-box;top: 0;bottom: 0;left: 50%;z-index: 0;}#sk-container-id-3 div.sk-serial {display: flex;flex-direction: column;align-items: center;background-color: white;padding-right: 0.2em;padding-left: 0.2em;position: relative;}#sk-container-id-3 div.sk-item {position: relative;z-index: 1;}#sk-container-id-3 div.sk-parallel {display: flex;align-items: stretch;justify-content: center;background-color: white;position: relative;}#sk-container-id-3 div.sk-item::before, #sk-container-id-3 div.sk-parallel-item::before {content: \"\";position: absolute;border-left: 1px solid gray;box-sizing: border-box;top: 0;bottom: 0;left: 50%;z-index: -1;}#sk-container-id-3 div.sk-parallel-item {display: flex;flex-direction: column;z-index: 1;position: relative;background-color: white;}#sk-container-id-3 div.sk-parallel-item:first-child::after {align-self: flex-end;width: 50%;}#sk-container-id-3 div.sk-parallel-item:last-child::after {align-self: flex-start;width: 50%;}#sk-container-id-3 div.sk-parallel-item:only-child::after {width: 0;}#sk-container-id-3 div.sk-dashed-wrapped {border: 1px dashed gray;margin: 0 0.4em 0.5em 0.4em;box-sizing: border-box;padding-bottom: 0.4em;background-color: white;}#sk-container-id-3 div.sk-label label {font-family: monospace;font-weight: bold;display: inline-block;line-height: 1.2em;}#sk-container-id-3 div.sk-label-container {text-align: center;}#sk-container-id-3 div.sk-container {/* jupyter's `normalize.less` sets `[hidden] { display: none; }` but bootstrap.min.css set `[hidden] { display: none !important; }` so we also need the `!important` here to be able to override the default hidden behavior on the sphinx rendered scikit-learn.org. See: https://github.com/scikit-learn/scikit-learn/issues/21755 */display: inline-block !important;position: relative;}#sk-container-id-3 div.sk-text-repr-fallback {display: none;}</style><div id=\"sk-container-id-3\" class=\"sk-top-container\"><div class=\"sk-text-repr-fallback\"><pre>CountVectorizer(min_df=0)</pre><b>In a Jupyter environment, please rerun this cell to show the HTML representation or trust the notebook. <br />On GitHub, the HTML representation is unable to render, please try loading this page with nbviewer.org.</b></div><div class=\"sk-container\" hidden><div class=\"sk-item\"><div class=\"sk-estimator sk-toggleable\"><input class=\"sk-toggleable__control sk-hidden--visually\" id=\"sk-estimator-id-3\" type=\"checkbox\" checked><label for=\"sk-estimator-id-3\" class=\"sk-toggleable__label sk-toggleable__label-arrow\">CountVectorizer</label><div class=\"sk-toggleable__content\"><pre>CountVectorizer(min_df=0)</pre></div></div></div></div></div>"
      ],
      "text/plain": [
       "CountVectorizer(min_df=0)"
      ]
     },
     "execution_count": 18,
     "metadata": {},
     "output_type": "execute_result"
    }
   ],
   "source": [
    "from sklearn.feature_extraction.text import CountVectorizer\n",
    "\n",
    "vectorizer = CountVectorizer(min_df=0, tokenizer=None, preprocessor=None)\n",
    "vectorizer.fit(df['tokenized_functions'])"
   ]
  },
  {
   "cell_type": "code",
   "execution_count": 19,
   "id": "fb35c314",
   "metadata": {},
   "outputs": [
    {
     "data": {
      "text/plain": [
       "array([[0, 0, 0, ..., 0, 0, 0],\n",
       "       [0, 0, 0, ..., 0, 0, 0],\n",
       "       [0, 0, 0, ..., 0, 0, 0],\n",
       "       ...,\n",
       "       [0, 0, 0, ..., 0, 0, 0],\n",
       "       [0, 0, 0, ..., 0, 0, 0],\n",
       "       [0, 0, 0, ..., 0, 0, 0]])"
      ]
     },
     "execution_count": 19,
     "metadata": {},
     "output_type": "execute_result"
    }
   ],
   "source": [
    "vectorizer.transform(df['tokenized_functions']).toarray()"
   ]
  },
  {
   "cell_type": "code",
   "execution_count": 20,
   "id": "593964c3",
   "metadata": {},
   "outputs": [],
   "source": [
    "from sklearn.model_selection import train_test_split\n",
    "\n",
    "functions = df['tokenized_functions'].values\n",
    "y = df['isVulnerable'].values\n",
    "\n",
    "functions_train, functions_test, y_train, y_test = train_test_split(functions, y, test_size=0.2, random_state=42)"
   ]
  },
  {
   "cell_type": "code",
   "execution_count": 21,
   "id": "669d8e7c",
   "metadata": {},
   "outputs": [],
   "source": [
    "vectorizer = CountVectorizer(min_df=0, tokenizer=None, preprocessor=None)\n",
    "vectorizer.fit(functions_train)\n",
    "\n",
    "X_train = vectorizer.transform(functions_train)\n",
    "X_test = vectorizer.transform(functions_test)"
   ]
  },
  {
   "cell_type": "code",
   "execution_count": 22,
   "id": "89c0c8e3",
   "metadata": {},
   "outputs": [
    {
     "data": {
      "text/plain": [
       "<17619x41439 sparse matrix of type '<class 'numpy.int64'>'\n",
       "\twith 700268 stored elements in Compressed Sparse Row format>"
      ]
     },
     "execution_count": 22,
     "metadata": {},
     "output_type": "execute_result"
    }
   ],
   "source": [
    "X_train"
   ]
  },
  {
   "cell_type": "code",
   "execution_count": 23,
   "id": "d40517ab",
   "metadata": {},
   "outputs": [
    {
     "name": "stdout",
     "output_type": "stream",
     "text": [
      "41439\n"
     ]
    }
   ],
   "source": [
    "from keras.models import Sequential\n",
    "from keras import layers\n",
    "\n",
    "input_dim = X_train.shape[1]\n",
    "print(X_train.shape[1])"
   ]
  },
  {
   "cell_type": "code",
   "execution_count": 24,
   "id": "a02e36b2",
   "metadata": {},
   "outputs": [],
   "source": [
    "model = Sequential()\n",
    "model.add(layers.Dense(10, input_dim=input_dim, activation='relu'))\n",
    "model.add(layers.Dense(1, activation='sigmoid'))"
   ]
  },
  {
   "cell_type": "code",
   "execution_count": 25,
   "id": "32ad57fd",
   "metadata": {},
   "outputs": [
    {
     "name": "stdout",
     "output_type": "stream",
     "text": [
      "Model: \"sequential_1\"\n",
      "_________________________________________________________________\n",
      " Layer (type)                Output Shape              Param #   \n",
      "=================================================================\n",
      " dense_2 (Dense)             (None, 10)                414400    \n",
      "                                                                 \n",
      " dense_3 (Dense)             (None, 1)                 11        \n",
      "                                                                 \n",
      "=================================================================\n",
      "Total params: 414,411\n",
      "Trainable params: 414,411\n",
      "Non-trainable params: 0\n",
      "_________________________________________________________________\n"
     ]
    }
   ],
   "source": [
    "model.compile(loss='binary_crossentropy', optimizer='adam', metrics=['accuracy'])\n",
    "model.summary()"
   ]
  },
  {
   "cell_type": "code",
   "execution_count": 26,
   "id": "44024186",
   "metadata": {},
   "outputs": [
    {
     "name": "stdout",
     "output_type": "stream",
     "text": [
      "Epoch 1/100\n"
     ]
    },
    {
     "name": "stderr",
     "output_type": "stream",
     "text": [
      "2023-05-03 17:18:39.253277: I tensorflow/core/common_runtime/executor.cc:1197] [/device:CPU:0] (DEBUG INFO) Executor start aborting (this does not indicate an error and you can ignore this message): INVALID_ARGUMENT: You must feed a value for placeholder tensor 'Placeholder/_1' with dtype int64 and shape [17619]\n",
      "\t [[{{node Placeholder/_1}}]]\n",
      "2023-05-03 17:18:39.253523: I tensorflow/core/common_runtime/executor.cc:1197] [/device:CPU:0] (DEBUG INFO) Executor start aborting (this does not indicate an error and you can ignore this message): INVALID_ARGUMENT: You must feed a value for placeholder tensor 'Placeholder/_1' with dtype int64 and shape [17619]\n",
      "\t [[{{node Placeholder/_1}}]]\n"
     ]
    },
    {
     "name": "stdout",
     "output_type": "stream",
     "text": [
      "1756/1762 [============================>.] - ETA: 0s - loss: 0.6962 - accuracy: 0.4933"
     ]
    },
    {
     "name": "stderr",
     "output_type": "stream",
     "text": [
      "2023-05-03 17:18:47.647082: I tensorflow/core/common_runtime/executor.cc:1197] [/device:CPU:0] (DEBUG INFO) Executor start aborting (this does not indicate an error and you can ignore this message): INVALID_ARGUMENT: You must feed a value for placeholder tensor 'Placeholder/_1' with dtype int64 and shape [4405]\n",
      "\t [[{{node Placeholder/_1}}]]\n"
     ]
    },
    {
     "name": "stdout",
     "output_type": "stream",
     "text": [
      "1762/1762 [==============================] - 9s 5ms/step - loss: 0.6962 - accuracy: 0.4936 - val_loss: 0.6934 - val_accuracy: 0.5010\n",
      "Epoch 2/100\n",
      "1762/1762 [==============================] - 8s 5ms/step - loss: 0.6920 - accuracy: 0.5001 - val_loss: 0.7057 - val_accuracy: 0.4967\n",
      "Epoch 3/100\n",
      "1762/1762 [==============================] - 8s 4ms/step - loss: 0.6908 - accuracy: 0.5139 - val_loss: 0.6955 - val_accuracy: 0.4881\n",
      "Epoch 4/100\n",
      "1762/1762 [==============================] - 8s 5ms/step - loss: 0.6841 - accuracy: 0.5311 - val_loss: 0.6946 - val_accuracy: 0.4888\n",
      "Epoch 5/100\n",
      "1762/1762 [==============================] - 8s 4ms/step - loss: 0.6729 - accuracy: 0.5467 - val_loss: 0.6948 - val_accuracy: 0.4983\n",
      "Epoch 6/100\n",
      "1762/1762 [==============================] - 8s 4ms/step - loss: 0.6565 - accuracy: 0.5593 - val_loss: 0.6940 - val_accuracy: 0.5103\n",
      "Epoch 7/100\n",
      "1762/1762 [==============================] - 8s 4ms/step - loss: 0.6414 - accuracy: 0.5702 - val_loss: 0.6976 - val_accuracy: 0.5124\n",
      "Epoch 8/100\n",
      "1762/1762 [==============================] - 8s 5ms/step - loss: 0.6280 - accuracy: 0.5786 - val_loss: 0.7053 - val_accuracy: 0.5251\n",
      "Epoch 9/100\n",
      "1762/1762 [==============================] - 8s 4ms/step - loss: 0.6153 - accuracy: 0.5848 - val_loss: 0.7074 - val_accuracy: 0.5299\n",
      "Epoch 10/100\n",
      "1762/1762 [==============================] - 9s 5ms/step - loss: 0.6006 - accuracy: 0.5881 - val_loss: 0.7169 - val_accuracy: 0.5376\n",
      "Epoch 11/100\n",
      "1762/1762 [==============================] - 8s 5ms/step - loss: 0.5875 - accuracy: 0.5961 - val_loss: 0.7206 - val_accuracy: 0.5362\n",
      "Epoch 12/100\n",
      "1762/1762 [==============================] - 8s 5ms/step - loss: 0.5766 - accuracy: 0.6092 - val_loss: 0.7334 - val_accuracy: 0.5594\n",
      "Epoch 13/100\n",
      "1762/1762 [==============================] - 9s 5ms/step - loss: 0.5654 - accuracy: 0.6157 - val_loss: 0.7459 - val_accuracy: 0.5775\n",
      "Epoch 14/100\n",
      "1762/1762 [==============================] - 8s 5ms/step - loss: 0.5563 - accuracy: 0.6231 - val_loss: 0.7712 - val_accuracy: 0.5737\n",
      "Epoch 15/100\n",
      "1762/1762 [==============================] - 9s 5ms/step - loss: 0.5488 - accuracy: 0.6273 - val_loss: 0.7920 - val_accuracy: 0.5705\n",
      "Epoch 16/100\n",
      "1762/1762 [==============================] - 9s 5ms/step - loss: 0.5442 - accuracy: 0.6284 - val_loss: 0.7927 - val_accuracy: 0.5886\n",
      "Epoch 17/100\n",
      "1762/1762 [==============================] - 8s 5ms/step - loss: 0.5408 - accuracy: 0.6307 - val_loss: 0.8084 - val_accuracy: 0.5914\n",
      "Epoch 18/100\n",
      "1762/1762 [==============================] - 9s 5ms/step - loss: 0.5360 - accuracy: 0.6324 - val_loss: 0.8168 - val_accuracy: 0.5955\n",
      "Epoch 19/100\n",
      "1762/1762 [==============================] - 8s 5ms/step - loss: 0.5347 - accuracy: 0.6339 - val_loss: 0.8263 - val_accuracy: 0.6000\n",
      "Epoch 20/100\n",
      "1762/1762 [==============================] - 9s 5ms/step - loss: 0.5296 - accuracy: 0.6358 - val_loss: 0.8560 - val_accuracy: 0.5989\n",
      "Epoch 21/100\n",
      "1762/1762 [==============================] - 9s 5ms/step - loss: 0.5315 - accuracy: 0.6365 - val_loss: 0.8515 - val_accuracy: 0.6036\n",
      "Epoch 22/100\n",
      "1762/1762 [==============================] - 8s 5ms/step - loss: 0.5276 - accuracy: 0.6383 - val_loss: 0.8551 - val_accuracy: 0.6054\n",
      "Epoch 23/100\n",
      "1762/1762 [==============================] - 8s 4ms/step - loss: 0.5259 - accuracy: 0.6381 - val_loss: 0.8723 - val_accuracy: 0.6018\n",
      "Epoch 24/100\n",
      "1762/1762 [==============================] - 8s 4ms/step - loss: 0.5248 - accuracy: 0.6383 - val_loss: 0.8841 - val_accuracy: 0.6050\n",
      "Epoch 25/100\n",
      "1762/1762 [==============================] - 8s 4ms/step - loss: 0.5231 - accuracy: 0.6389 - val_loss: 0.8943 - val_accuracy: 0.6052\n",
      "Epoch 26/100\n",
      "1762/1762 [==============================] - 9s 5ms/step - loss: 0.5257 - accuracy: 0.6386 - val_loss: 0.8978 - val_accuracy: 0.6011\n",
      "Epoch 27/100\n",
      "1762/1762 [==============================] - 8s 4ms/step - loss: 0.5219 - accuracy: 0.6390 - val_loss: 0.9045 - val_accuracy: 0.6077\n",
      "Epoch 28/100\n",
      "1762/1762 [==============================] - 8s 5ms/step - loss: 0.5218 - accuracy: 0.6397 - val_loss: 0.9132 - val_accuracy: 0.6082\n",
      "Epoch 29/100\n",
      "1762/1762 [==============================] - 8s 5ms/step - loss: 0.5205 - accuracy: 0.6401 - val_loss: 0.9195 - val_accuracy: 0.6104\n",
      "Epoch 30/100\n",
      "1762/1762 [==============================] - 9s 5ms/step - loss: 0.5213 - accuracy: 0.6410 - val_loss: 0.9240 - val_accuracy: 0.6102\n",
      "Epoch 31/100\n",
      "1762/1762 [==============================] - 9s 5ms/step - loss: 0.5192 - accuracy: 0.6415 - val_loss: 0.9231 - val_accuracy: 0.6048\n",
      "Epoch 32/100\n",
      "1762/1762 [==============================] - 9s 5ms/step - loss: 0.5181 - accuracy: 0.6404 - val_loss: 0.9514 - val_accuracy: 0.6093\n",
      "Epoch 33/100\n",
      "1762/1762 [==============================] - 8s 5ms/step - loss: 0.5188 - accuracy: 0.6410 - val_loss: 0.9368 - val_accuracy: 0.6093\n",
      "Epoch 34/100\n",
      "1762/1762 [==============================] - 9s 5ms/step - loss: 0.5189 - accuracy: 0.6408 - val_loss: 0.9477 - val_accuracy: 0.6107\n",
      "Epoch 35/100\n",
      "1762/1762 [==============================] - 9s 5ms/step - loss: 0.5198 - accuracy: 0.6414 - val_loss: 0.9402 - val_accuracy: 0.6102\n",
      "Epoch 36/100\n",
      "1762/1762 [==============================] - 8s 4ms/step - loss: 0.5189 - accuracy: 0.6407 - val_loss: 0.9463 - val_accuracy: 0.6093\n",
      "Epoch 37/100\n",
      "1762/1762 [==============================] - 7s 4ms/step - loss: 0.5187 - accuracy: 0.6409 - val_loss: 0.9417 - val_accuracy: 0.6086\n",
      "Epoch 38/100\n",
      "1762/1762 [==============================] - 8s 4ms/step - loss: 0.5165 - accuracy: 0.6412 - val_loss: 0.9351 - val_accuracy: 0.6079\n",
      "Epoch 39/100\n",
      "1762/1762 [==============================] - 7s 4ms/step - loss: 0.5183 - accuracy: 0.6410 - val_loss: 0.9449 - val_accuracy: 0.6091\n",
      "Epoch 40/100\n",
      "1762/1762 [==============================] - 7s 4ms/step - loss: 0.5171 - accuracy: 0.6411 - val_loss: 0.9461 - val_accuracy: 0.6100\n",
      "Epoch 41/100\n",
      "1762/1762 [==============================] - 8s 4ms/step - loss: 0.5167 - accuracy: 0.6412 - val_loss: 0.9547 - val_accuracy: 0.6091\n",
      "Epoch 42/100\n",
      "1762/1762 [==============================] - 7s 4ms/step - loss: 0.5158 - accuracy: 0.6408 - val_loss: 0.9517 - val_accuracy: 0.6114\n",
      "Epoch 43/100\n",
      "1762/1762 [==============================] - 8s 4ms/step - loss: 0.5169 - accuracy: 0.6416 - val_loss: 0.9475 - val_accuracy: 0.6116\n",
      "Epoch 44/100\n",
      "1762/1762 [==============================] - 8s 4ms/step - loss: 0.5155 - accuracy: 0.6415 - val_loss: 0.9690 - val_accuracy: 0.6114\n",
      "Epoch 45/100\n",
      "1762/1762 [==============================] - 7s 4ms/step - loss: 0.5159 - accuracy: 0.6415 - val_loss: 0.9644 - val_accuracy: 0.6061\n",
      "Epoch 46/100\n",
      "1762/1762 [==============================] - 7s 4ms/step - loss: 0.5174 - accuracy: 0.6411 - val_loss: 0.9662 - val_accuracy: 0.6084\n",
      "Epoch 47/100\n",
      "1762/1762 [==============================] - 8s 4ms/step - loss: 0.5160 - accuracy: 0.6409 - val_loss: 0.9694 - val_accuracy: 0.6084\n",
      "Epoch 48/100\n",
      "1762/1762 [==============================] - 7s 4ms/step - loss: 0.5160 - accuracy: 0.6413 - val_loss: 0.9729 - val_accuracy: 0.6100\n",
      "Epoch 49/100\n",
      "1762/1762 [==============================] - 8s 4ms/step - loss: 0.5160 - accuracy: 0.6409 - val_loss: 0.9823 - val_accuracy: 0.6114\n",
      "Epoch 50/100\n",
      "1762/1762 [==============================] - 7s 4ms/step - loss: 0.5149 - accuracy: 0.6415 - val_loss: 0.9755 - val_accuracy: 0.6116\n",
      "Epoch 51/100\n",
      "1762/1762 [==============================] - 8s 4ms/step - loss: 0.5155 - accuracy: 0.6410 - val_loss: 0.9769 - val_accuracy: 0.6102\n",
      "Epoch 52/100\n",
      "1762/1762 [==============================] - 7s 4ms/step - loss: 0.5153 - accuracy: 0.6415 - val_loss: 0.9787 - val_accuracy: 0.6102\n",
      "Epoch 53/100\n",
      "1762/1762 [==============================] - 8s 4ms/step - loss: 0.5148 - accuracy: 0.6421 - val_loss: 0.9796 - val_accuracy: 0.6114\n",
      "Epoch 54/100\n",
      "1762/1762 [==============================] - 8s 4ms/step - loss: 0.5143 - accuracy: 0.6418 - val_loss: 0.9791 - val_accuracy: 0.6089\n",
      "Epoch 55/100\n",
      "1762/1762 [==============================] - 8s 4ms/step - loss: 0.5162 - accuracy: 0.6410 - val_loss: 0.9720 - val_accuracy: 0.6111\n",
      "Epoch 56/100\n",
      "1762/1762 [==============================] - 8s 4ms/step - loss: 0.5144 - accuracy: 0.6422 - val_loss: 0.9761 - val_accuracy: 0.6104\n",
      "Epoch 57/100\n",
      "1762/1762 [==============================] - 8s 4ms/step - loss: 0.5152 - accuracy: 0.6410 - val_loss: 0.9803 - val_accuracy: 0.6116\n",
      "Epoch 58/100\n",
      "1762/1762 [==============================] - 7s 4ms/step - loss: 0.5147 - accuracy: 0.6415 - val_loss: 0.9783 - val_accuracy: 0.6118\n",
      "Epoch 59/100\n",
      "1762/1762 [==============================] - 7s 4ms/step - loss: 0.5141 - accuracy: 0.6413 - val_loss: 0.9839 - val_accuracy: 0.6118\n",
      "Epoch 60/100\n",
      "1762/1762 [==============================] - 8s 4ms/step - loss: 0.5143 - accuracy: 0.6414 - val_loss: 0.9922 - val_accuracy: 0.6123\n",
      "Epoch 61/100\n",
      "1762/1762 [==============================] - 7s 4ms/step - loss: 0.5132 - accuracy: 0.6418 - val_loss: 0.9874 - val_accuracy: 0.6111\n",
      "Epoch 62/100\n",
      "1762/1762 [==============================] - 7s 4ms/step - loss: 0.5146 - accuracy: 0.6415 - val_loss: 1.0038 - val_accuracy: 0.6104\n",
      "Epoch 63/100\n",
      "1762/1762 [==============================] - 8s 4ms/step - loss: 0.5148 - accuracy: 0.6418 - val_loss: 1.0059 - val_accuracy: 0.6138\n",
      "Epoch 64/100\n",
      "1762/1762 [==============================] - 8s 4ms/step - loss: 0.5151 - accuracy: 0.6418 - val_loss: 1.0063 - val_accuracy: 0.6118\n",
      "Epoch 65/100\n",
      "1762/1762 [==============================] - 7s 4ms/step - loss: 0.5132 - accuracy: 0.6416 - val_loss: 1.0102 - val_accuracy: 0.6127\n",
      "Epoch 66/100\n",
      "1762/1762 [==============================] - 8s 4ms/step - loss: 0.5152 - accuracy: 0.6421 - val_loss: 1.0110 - val_accuracy: 0.6132\n",
      "Epoch 67/100\n",
      "1762/1762 [==============================] - 8s 4ms/step - loss: 0.5137 - accuracy: 0.6416 - val_loss: 0.9937 - val_accuracy: 0.6136\n",
      "Epoch 68/100\n",
      "1762/1762 [==============================] - 7s 4ms/step - loss: 0.5139 - accuracy: 0.6414 - val_loss: 0.9921 - val_accuracy: 0.6136\n",
      "Epoch 69/100\n",
      "1762/1762 [==============================] - 7s 4ms/step - loss: 0.5141 - accuracy: 0.6419 - val_loss: 0.9890 - val_accuracy: 0.6134\n",
      "Epoch 70/100\n",
      "1762/1762 [==============================] - 7s 4ms/step - loss: 0.5147 - accuracy: 0.6421 - val_loss: 0.9931 - val_accuracy: 0.6148\n",
      "Epoch 71/100\n",
      "1762/1762 [==============================] - 8s 4ms/step - loss: 0.5130 - accuracy: 0.6422 - val_loss: 0.9936 - val_accuracy: 0.6136\n",
      "Epoch 72/100\n",
      "1762/1762 [==============================] - 7s 4ms/step - loss: 0.5143 - accuracy: 0.6416 - val_loss: 0.9966 - val_accuracy: 0.6138\n",
      "Epoch 73/100\n",
      "1762/1762 [==============================] - 7s 4ms/step - loss: 0.5130 - accuracy: 0.6421 - val_loss: 1.0085 - val_accuracy: 0.6132\n",
      "Epoch 74/100\n",
      "1762/1762 [==============================] - 7s 4ms/step - loss: 0.5137 - accuracy: 0.6420 - val_loss: 1.0110 - val_accuracy: 0.6129\n",
      "Epoch 75/100\n",
      "1762/1762 [==============================] - 7s 4ms/step - loss: 0.5153 - accuracy: 0.6419 - val_loss: 1.0052 - val_accuracy: 0.6141\n",
      "Epoch 76/100\n",
      "1762/1762 [==============================] - 7s 4ms/step - loss: 0.5142 - accuracy: 0.6421 - val_loss: 1.0143 - val_accuracy: 0.6127\n",
      "Epoch 77/100\n",
      "1762/1762 [==============================] - 8s 4ms/step - loss: 0.5144 - accuracy: 0.6423 - val_loss: 1.0097 - val_accuracy: 0.6123\n",
      "Epoch 78/100\n",
      "1762/1762 [==============================] - 7s 4ms/step - loss: 0.5131 - accuracy: 0.6423 - val_loss: 1.0177 - val_accuracy: 0.6127\n",
      "Epoch 79/100\n",
      "1762/1762 [==============================] - 7s 4ms/step - loss: 0.5134 - accuracy: 0.6421 - val_loss: 1.0065 - val_accuracy: 0.6134\n",
      "Epoch 80/100\n",
      "1762/1762 [==============================] - 7s 4ms/step - loss: 0.5125 - accuracy: 0.6420 - val_loss: 1.0106 - val_accuracy: 0.6132\n",
      "Epoch 81/100\n",
      "1762/1762 [==============================] - 8s 4ms/step - loss: 0.5127 - accuracy: 0.6428 - val_loss: 1.0247 - val_accuracy: 0.6148\n",
      "Epoch 82/100\n",
      "1762/1762 [==============================] - 7s 4ms/step - loss: 0.5147 - accuracy: 0.6428 - val_loss: 1.0057 - val_accuracy: 0.6136\n",
      "Epoch 83/100\n",
      "1762/1762 [==============================] - 7s 4ms/step - loss: 0.5137 - accuracy: 0.6426 - val_loss: 1.0097 - val_accuracy: 0.6134\n",
      "Epoch 84/100\n",
      "1762/1762 [==============================] - 7s 4ms/step - loss: 0.5126 - accuracy: 0.6425 - val_loss: 1.0042 - val_accuracy: 0.6143\n",
      "Epoch 85/100\n",
      "1762/1762 [==============================] - 7s 4ms/step - loss: 0.5139 - accuracy: 0.6428 - val_loss: 1.0069 - val_accuracy: 0.6154\n",
      "Epoch 86/100\n",
      "1762/1762 [==============================] - 7s 4ms/step - loss: 0.5118 - accuracy: 0.6426 - val_loss: 1.0034 - val_accuracy: 0.6159\n",
      "Epoch 87/100\n",
      "1762/1762 [==============================] - 7s 4ms/step - loss: 0.5127 - accuracy: 0.6430 - val_loss: 1.0213 - val_accuracy: 0.6129\n",
      "Epoch 88/100\n",
      "1762/1762 [==============================] - 8s 4ms/step - loss: 0.5120 - accuracy: 0.6428 - val_loss: 1.0102 - val_accuracy: 0.6150\n",
      "Epoch 89/100\n",
      "1762/1762 [==============================] - 8s 4ms/step - loss: 0.5133 - accuracy: 0.6432 - val_loss: 1.0135 - val_accuracy: 0.6148\n",
      "Epoch 90/100\n",
      "1762/1762 [==============================] - 7s 4ms/step - loss: 0.5138 - accuracy: 0.6427 - val_loss: 1.0244 - val_accuracy: 0.6148\n",
      "Epoch 91/100\n",
      "1762/1762 [==============================] - 8s 4ms/step - loss: 0.5127 - accuracy: 0.6426 - val_loss: 1.0145 - val_accuracy: 0.6157\n",
      "Epoch 92/100\n",
      "1762/1762 [==============================] - 8s 4ms/step - loss: 0.5129 - accuracy: 0.6429 - val_loss: 1.0181 - val_accuracy: 0.6134\n",
      "Epoch 93/100\n",
      "1762/1762 [==============================] - 8s 4ms/step - loss: 0.5110 - accuracy: 0.6432 - val_loss: 1.0198 - val_accuracy: 0.6143\n",
      "Epoch 94/100\n",
      "1762/1762 [==============================] - 8s 4ms/step - loss: 0.5125 - accuracy: 0.6431 - val_loss: 1.0201 - val_accuracy: 0.6143\n",
      "Epoch 95/100\n",
      "1762/1762 [==============================] - 7s 4ms/step - loss: 0.5112 - accuracy: 0.6429 - val_loss: 1.0188 - val_accuracy: 0.6157\n",
      "Epoch 96/100\n",
      "1762/1762 [==============================] - 7s 4ms/step - loss: 0.5114 - accuracy: 0.6439 - val_loss: 1.0309 - val_accuracy: 0.6138\n",
      "Epoch 97/100\n",
      "1762/1762 [==============================] - 8s 4ms/step - loss: 0.5116 - accuracy: 0.6431 - val_loss: 1.0307 - val_accuracy: 0.6145\n",
      "Epoch 98/100\n",
      "1762/1762 [==============================] - 7s 4ms/step - loss: 0.5120 - accuracy: 0.6429 - val_loss: 1.0386 - val_accuracy: 0.6159\n",
      "Epoch 99/100\n",
      "1762/1762 [==============================] - 7s 4ms/step - loss: 0.5117 - accuracy: 0.6432 - val_loss: 1.0293 - val_accuracy: 0.6145\n",
      "Epoch 100/100\n",
      "1762/1762 [==============================] - 8s 4ms/step - loss: 0.5111 - accuracy: 0.6432 - val_loss: 1.0325 - val_accuracy: 0.6152\n"
     ]
    },
    {
     "name": "stderr",
     "output_type": "stream",
     "text": [
      "2023-05-03 17:31:42.218269: I tensorflow/core/common_runtime/executor.cc:1197] [/device:CPU:0] (DEBUG INFO) Executor start aborting (this does not indicate an error and you can ignore this message): INVALID_ARGUMENT: You must feed a value for placeholder tensor 'Placeholder/_1' with dtype int64 and shape [17619]\n",
      "\t [[{{node Placeholder/_1}}]]\n"
     ]
    },
    {
     "name": "stdout",
     "output_type": "stream",
     "text": [
      "Training Accuracy: 0.6432\n",
      "Testing Accuracy:  0.6152\n"
     ]
    },
    {
     "name": "stderr",
     "output_type": "stream",
     "text": [
      "2023-05-03 17:31:43.600821: I tensorflow/core/common_runtime/executor.cc:1197] [/device:CPU:0] (DEBUG INFO) Executor start aborting (this does not indicate an error and you can ignore this message): INVALID_ARGUMENT: You must feed a value for placeholder tensor 'Placeholder/_1' with dtype int64 and shape [4405]\n",
      "\t [[{{node Placeholder/_1}}]]\n"
     ]
    }
   ],
   "source": [
    "history = model.fit(X_train, y_train, epochs=100, verbose=True, validation_data=(X_test, y_test), batch_size=10)\n",
    "from keras.backend import clear_session\n",
    "clear_session()\n",
    "\n",
    "loss, accuracy = model.evaluate(X_train, y_train, verbose=False)\n",
    "print(\"Training Accuracy: {:.4f}\".format(accuracy))\n",
    "loss, accuracy = model.evaluate(X_test, y_test, verbose=False)\n",
    "print(\"Testing Accuracy:  {:.4f}\".format(accuracy))"
   ]
  },
  {
   "cell_type": "code",
   "execution_count": null,
   "id": "aec84572",
   "metadata": {},
   "outputs": [],
   "source": []
  }
 ],
 "metadata": {
  "kernelspec": {
   "display_name": "Python 3 (ipykernel)",
   "language": "python",
   "name": "python3"
  },
  "language_info": {
   "codemirror_mode": {
    "name": "ipython",
    "version": 3
   },
   "file_extension": ".py",
   "mimetype": "text/x-python",
   "name": "python",
   "nbconvert_exporter": "python",
   "pygments_lexer": "ipython3",
   "version": "3.8.10"
  }
 },
 "nbformat": 4,
 "nbformat_minor": 5
}
