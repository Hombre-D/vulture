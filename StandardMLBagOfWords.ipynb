{
 "cells": [
  {
   "cell_type": "markdown",
   "id": "86946554",
   "metadata": {},
   "source": [
    "Three standard models (two linear, one bayesian) on a bag-of-words vector"
   ]
  },
  {
   "cell_type": "code",
   "execution_count": 84,
   "id": "f22d9a3b",
   "metadata": {},
   "outputs": [],
   "source": [
    "import sqlite3\n",
    "import pandas as pd\n",
    "from sklearn.feature_extraction.text import CountVectorizer\n",
    "from sklearn.model_selection import train_test_split\n",
    "from sklearn.linear_model import LogisticRegression\n",
    "from sklearn.naive_bayes import MultinomialNB\n",
    "from sklearn.linear_model import SGDClassifier\n",
    "from sklearn.model_selection import cross_val_score, cross_val_predict\n",
    "from sklearn.metrics import confusion_matrix\n",
    "from sklearn.metrics import precision_score, recall_score\n",
    "from sklearn.metrics import f1_score\n",
    "\n",
    "df = pd.read_csv('preprocessed_data.csv', index_col=0)"
   ]
  },
  {
   "cell_type": "code",
   "execution_count": 85,
   "id": "18afe481",
   "metadata": {},
   "outputs": [
    {
     "data": {
      "text/html": [
       "<div>\n",
       "<style scoped>\n",
       "    .dataframe tbody tr th:only-of-type {\n",
       "        vertical-align: middle;\n",
       "    }\n",
       "\n",
       "    .dataframe tbody tr th {\n",
       "        vertical-align: top;\n",
       "    }\n",
       "\n",
       "    .dataframe thead th {\n",
       "        text-align: right;\n",
       "    }\n",
       "</style>\n",
       "<table border=\"1\" class=\"dataframe\">\n",
       "  <thead>\n",
       "    <tr style=\"text-align: right;\">\n",
       "      <th></th>\n",
       "      <th>function</th>\n",
       "      <th>isVulnerable</th>\n",
       "      <th>tokenized_functions</th>\n",
       "      <th>size</th>\n",
       "    </tr>\n",
       "  </thead>\n",
       "  <tbody>\n",
       "    <tr>\n",
       "      <th>0</th>\n",
       "      <td>static void ipcomp_free_scratches(void)\\n{\\n\\t...</td>\n",
       "      <td>0</td>\n",
       "      <td>['static', 'void', 'ipcomp_free_scratches', '(...</td>\n",
       "      <td>53</td>\n",
       "    </tr>\n",
       "    <tr>\n",
       "      <th>1</th>\n",
       "      <td>static void ipcomp_free_scratches(void)\\n{\\n\\t...</td>\n",
       "      <td>1</td>\n",
       "      <td>['static', 'void', 'ipcomp_free_scratches', '(...</td>\n",
       "      <td>49</td>\n",
       "    </tr>\n",
       "  </tbody>\n",
       "</table>\n",
       "</div>"
      ],
      "text/plain": [
       "                                            function  isVulnerable   \n",
       "0  static void ipcomp_free_scratches(void)\\n{\\n\\t...             0  \\\n",
       "1  static void ipcomp_free_scratches(void)\\n{\\n\\t...             1   \n",
       "\n",
       "                                 tokenized_functions  size  \n",
       "0  ['static', 'void', 'ipcomp_free_scratches', '(...    53  \n",
       "1  ['static', 'void', 'ipcomp_free_scratches', '(...    49  "
      ]
     },
     "execution_count": 85,
     "metadata": {},
     "output_type": "execute_result"
    }
   ],
   "source": [
    "df.head(n=2)"
   ]
  },
  {
   "cell_type": "code",
   "execution_count": 86,
   "id": "098228df",
   "metadata": {},
   "outputs": [
    {
     "name": "stdout",
     "output_type": "stream",
     "text": [
      "function               22024\n",
      "isVulnerable           22024\n",
      "tokenized_functions    22024\n",
      "size                   22024\n",
      "dtype: int64\n"
     ]
    }
   ],
   "source": [
    "print(df.count())"
   ]
  },
  {
   "cell_type": "code",
   "execution_count": 87,
   "id": "9c54c190",
   "metadata": {},
   "outputs": [
    {
     "data": {
      "text/html": [
       "<style>#sk-container-id-14 {color: black;background-color: white;}#sk-container-id-14 pre{padding: 0;}#sk-container-id-14 div.sk-toggleable {background-color: white;}#sk-container-id-14 label.sk-toggleable__label {cursor: pointer;display: block;width: 100%;margin-bottom: 0;padding: 0.3em;box-sizing: border-box;text-align: center;}#sk-container-id-14 label.sk-toggleable__label-arrow:before {content: \"▸\";float: left;margin-right: 0.25em;color: #696969;}#sk-container-id-14 label.sk-toggleable__label-arrow:hover:before {color: black;}#sk-container-id-14 div.sk-estimator:hover label.sk-toggleable__label-arrow:before {color: black;}#sk-container-id-14 div.sk-toggleable__content {max-height: 0;max-width: 0;overflow: hidden;text-align: left;background-color: #f0f8ff;}#sk-container-id-14 div.sk-toggleable__content pre {margin: 0.2em;color: black;border-radius: 0.25em;background-color: #f0f8ff;}#sk-container-id-14 input.sk-toggleable__control:checked~div.sk-toggleable__content {max-height: 200px;max-width: 100%;overflow: auto;}#sk-container-id-14 input.sk-toggleable__control:checked~label.sk-toggleable__label-arrow:before {content: \"▾\";}#sk-container-id-14 div.sk-estimator input.sk-toggleable__control:checked~label.sk-toggleable__label {background-color: #d4ebff;}#sk-container-id-14 div.sk-label input.sk-toggleable__control:checked~label.sk-toggleable__label {background-color: #d4ebff;}#sk-container-id-14 input.sk-hidden--visually {border: 0;clip: rect(1px 1px 1px 1px);clip: rect(1px, 1px, 1px, 1px);height: 1px;margin: -1px;overflow: hidden;padding: 0;position: absolute;width: 1px;}#sk-container-id-14 div.sk-estimator {font-family: monospace;background-color: #f0f8ff;border: 1px dotted black;border-radius: 0.25em;box-sizing: border-box;margin-bottom: 0.5em;}#sk-container-id-14 div.sk-estimator:hover {background-color: #d4ebff;}#sk-container-id-14 div.sk-parallel-item::after {content: \"\";width: 100%;border-bottom: 1px solid gray;flex-grow: 1;}#sk-container-id-14 div.sk-label:hover label.sk-toggleable__label {background-color: #d4ebff;}#sk-container-id-14 div.sk-serial::before {content: \"\";position: absolute;border-left: 1px solid gray;box-sizing: border-box;top: 0;bottom: 0;left: 50%;z-index: 0;}#sk-container-id-14 div.sk-serial {display: flex;flex-direction: column;align-items: center;background-color: white;padding-right: 0.2em;padding-left: 0.2em;position: relative;}#sk-container-id-14 div.sk-item {position: relative;z-index: 1;}#sk-container-id-14 div.sk-parallel {display: flex;align-items: stretch;justify-content: center;background-color: white;position: relative;}#sk-container-id-14 div.sk-item::before, #sk-container-id-14 div.sk-parallel-item::before {content: \"\";position: absolute;border-left: 1px solid gray;box-sizing: border-box;top: 0;bottom: 0;left: 50%;z-index: -1;}#sk-container-id-14 div.sk-parallel-item {display: flex;flex-direction: column;z-index: 1;position: relative;background-color: white;}#sk-container-id-14 div.sk-parallel-item:first-child::after {align-self: flex-end;width: 50%;}#sk-container-id-14 div.sk-parallel-item:last-child::after {align-self: flex-start;width: 50%;}#sk-container-id-14 div.sk-parallel-item:only-child::after {width: 0;}#sk-container-id-14 div.sk-dashed-wrapped {border: 1px dashed gray;margin: 0 0.4em 0.5em 0.4em;box-sizing: border-box;padding-bottom: 0.4em;background-color: white;}#sk-container-id-14 div.sk-label label {font-family: monospace;font-weight: bold;display: inline-block;line-height: 1.2em;}#sk-container-id-14 div.sk-label-container {text-align: center;}#sk-container-id-14 div.sk-container {/* jupyter's `normalize.less` sets `[hidden] { display: none; }` but bootstrap.min.css set `[hidden] { display: none !important; }` so we also need the `!important` here to be able to override the default hidden behavior on the sphinx rendered scikit-learn.org. See: https://github.com/scikit-learn/scikit-learn/issues/21755 */display: inline-block !important;position: relative;}#sk-container-id-14 div.sk-text-repr-fallback {display: none;}</style><div id=\"sk-container-id-14\" class=\"sk-top-container\"><div class=\"sk-text-repr-fallback\"><pre>CountVectorizer(min_df=0)</pre><b>In a Jupyter environment, please rerun this cell to show the HTML representation or trust the notebook. <br />On GitHub, the HTML representation is unable to render, please try loading this page with nbviewer.org.</b></div><div class=\"sk-container\" hidden><div class=\"sk-item\"><div class=\"sk-estimator sk-toggleable\"><input class=\"sk-toggleable__control sk-hidden--visually\" id=\"sk-estimator-id-14\" type=\"checkbox\" checked><label for=\"sk-estimator-id-14\" class=\"sk-toggleable__label sk-toggleable__label-arrow\">CountVectorizer</label><div class=\"sk-toggleable__content\"><pre>CountVectorizer(min_df=0)</pre></div></div></div></div></div>"
      ],
      "text/plain": [
       "CountVectorizer(min_df=0)"
      ]
     },
     "execution_count": 87,
     "metadata": {},
     "output_type": "execute_result"
    }
   ],
   "source": [
    "vectorizer = CountVectorizer(min_df=0, tokenizer=None, preprocessor=None)\n",
    "vectorizer.fit(df['tokenized_functions'])\n"
   ]
  },
  {
   "cell_type": "code",
   "execution_count": 88,
   "id": "34b75550",
   "metadata": {},
   "outputs": [
    {
     "data": {
      "text/plain": [
       "{'static': 35258,\n",
       " 'void': 40359,\n",
       " 'ipcomp_free_scratches': 17690,\n",
       " 'int': 17038,\n",
       " '__percpu': 736,\n",
       " 'scratches': 32338,\n",
       " 'if': 16295,\n",
       " 'ipcomp_scratch_users': 17691,\n",
       " 'return': 30546,\n",
       " 'ipcomp_scratches': 17692,\n",
       " 'for_each_possible_cpu': 12451,\n",
       " 'vfree': 39877,\n",
       " 'per_cpu_ptr': 26965,\n",
       " 'free_percpu': 12680,\n",
       " 'null': 24827,\n",
       " '__exit': 532,\n",
       " 'nbd_cleanup': 23219,\n",
       " 'struct': 35510,\n",
       " 'nbd_device': 23226,\n",
       " 'nbd': 23216,\n",
       " 'list_head': 19718,\n",
       " 'del_list': 7868,\n",
       " 'genl_unregister_family': 13259,\n",
       " 'nbd_genl_family': 23230,\n",
       " 'nbd_dbg_close': 23222,\n",
       " 'mutex_lock': 22981,\n",
       " 'nbd_index_mutex': 23232,\n",
       " 'idr_for_each': 16065,\n",
       " 'nbd_index_idr': 23231,\n",
       " 'nbd_exit_cb': 23229,\n",
       " 'mutex_unlock': 22987,\n",
       " 'while': 40790,\n",
       " 'list_empty': 19705,\n",
       " 'list_first_entry': 19707,\n",
       " 'list': 19696,\n",
       " 'list_del_init': 19702,\n",
       " 'refcount_read': 29916,\n",
       " 'refs': 29927,\n",
       " 'printk': 28162,\n",
       " 'kern_err': 18678,\n",
       " 'possibly': 27910,\n",
       " 'leaking': 19546,\n",
       " 'device': 8206,\n",
       " 'nbd_put': 23235,\n",
       " 'destroy_workqueue': 8017,\n",
       " 'nbd_del_wq': 23225,\n",
       " 'idr_destroy': 16063,\n",
       " 'unregister_blkdev': 38795,\n",
       " 'nbd_major': 23233,\n",
       " 'mcb_bus': 20961,\n",
       " 'mcb_alloc_bus': 20960,\n",
       " 'carrier': 4994,\n",
       " 'bus': 4658,\n",
       " 'bus_nr': 4674,\n",
       " 'rc': 29529,\n",
       " 'kzalloc': 19229,\n",
       " 'sizeof': 33481,\n",
       " 'gfp_kernel': 13497,\n",
       " 'err_ptr': 10766,\n",
       " 'enomem': 10455,\n",
       " 'ida_simple_get': 16025,\n",
       " 'mcb_ida': 20968,\n",
       " 'kfree': 18804,\n",
       " 'get_device': 13318,\n",
       " 'device_initialize': 8233,\n",
       " 'dev': 8042,\n",
       " 'parent': 26445,\n",
       " 'mcb_bus_type': 20962,\n",
       " 'type': 38231,\n",
       " 'mcb_carrier_device_type': 20963,\n",
       " 'release': 30095,\n",
       " 'mcb_free_bus': 20967,\n",
       " 'dev_set_name': 8157,\n",
       " 'mcb': 20959,\n",
       " 'device_add': 8207,\n",
       " 'goto': 13725,\n",
       " 'err_put': 10767,\n",
       " 'put_device': 28602,\n",
       " 'err_free': 10685,\n",
       " 'erspan_fb_xmit': 10872,\n",
       " 'sk_buff': 33515,\n",
       " 'skb': 33647,\n",
       " 'net_device': 23378,\n",
       " 'ip_tunnel': 17651,\n",
       " 'tunnel': 37966,\n",
       " 'netdev_priv': 23445,\n",
       " 'ip_tunnel_info': 17653,\n",
       " 'tun_info': 37952,\n",
       " 'const': 6519,\n",
       " 'ip_tunnel_key': 17657,\n",
       " 'key': 18731,\n",
       " 'erspan_metadata': 10874,\n",
       " 'md': 21087,\n",
       " 'bool': 3825,\n",
       " 'truncate': 37775,\n",
       " 'false': 11654,\n",
       " '__be16': 453,\n",
       " 'proto': 28321,\n",
       " 'tunnel_hlen': 37969,\n",
       " 'version': 39798,\n",
       " 'nhoff': 24199,\n",
       " 'skb_tunnel_info': 33753,\n",
       " 'unlikely': 38745,\n",
       " 'mode': 22150,\n",
       " 'ip_tunnel_info_tx': 17656,\n",
       " 'ip_tunnel_info_af': 17654,\n",
       " 'af_inet': 1428,\n",
       " 'err_free_skb': 10706,\n",
       " 'tun_flags': 37946,\n",
       " 'tunnel_erspan_opt': 37968,\n",
       " 'options_len': 25768,\n",
       " 'ip_tunnel_info_opts': 17655,\n",
       " 'erspan_hdr_len': 10873,\n",
       " 'skb_cow_head': 33660,\n",
       " 'needed_headroom': 23331,\n",
       " 'gre_handle_offloads': 13854,\n",
       " 'len': 19583,\n",
       " 'mtu': 22945,\n",
       " 'hard_header_len': 14102,\n",
       " 'pskb_trim': 28374,\n",
       " 'true': 37772,\n",
       " 'skb_network_header': 33701,\n",
       " 'skb_mac_header': 33694,\n",
       " 'protocol': 28325,\n",
       " 'htons': 14942,\n",
       " 'eth_p_ip': 10942,\n",
       " 'ntohs': 24819,\n",
       " 'ip_hdr': 17603,\n",
       " 'tot_len': 37432,\n",
       " 'eth_p_ipv6': 10943,\n",
       " 'thoff': 36937,\n",
       " 'skb_transport_header_was_set': 33748,\n",
       " 'skb_transport_header': 33747,\n",
       " 'else': 10232,\n",
       " 'ipv6hdr': 17821,\n",
       " 'ipv6_hdr': 17792,\n",
       " 'payload_len': 26553,\n",
       " 'erspan_build_header': 10870,\n",
       " 'ntohl': 24818,\n",
       " 'tunnel_id_to_key32': 37970,\n",
       " 'tun_id': 37951,\n",
       " 'index': 16693,\n",
       " 'eth_p_erspan': 10939,\n",
       " 'erspan_build_header_v2': 10871,\n",
       " 'md2': 21088,\n",
       " 'dir': 8520,\n",
       " 'get_hwid': 13352,\n",
       " 'eth_p_erspan2': 10940,\n",
       " 'gre_build_header': 13853,\n",
       " 'tunnel_seq': 37971,\n",
       " 'htonl': 14941,\n",
       " 'atomic_fetch_inc': 2513,\n",
       " 'o_seqno': 25192,\n",
       " 'ip_md_tunnel_xmit': 17619,\n",
       " 'ipproto_gre': 17732,\n",
       " 'kfree_skb': 18808,\n",
       " 'stats': 35279,\n",
       " 'tx_dropped': 38063,\n",
       " 'efx_farch_handle_tx_event': 10076,\n",
       " 'efx_channel': 10064,\n",
       " 'channel': 5389,\n",
       " 'efx_qword_t': 10098,\n",
       " 'event': 10989,\n",
       " 'unsigned': 38846,\n",
       " 'tx_ev_desc_ptr': 38069,\n",
       " 'tx_ev_q_label': 38070,\n",
       " 'efx_tx_queue': 10112,\n",
       " 'tx_queue': 38123,\n",
       " 'efx_nic': 10090,\n",
       " 'efx': 10062,\n",
       " 'read_once': 29727,\n",
       " 'reset_pending': 30417,\n",
       " 'likely': 19613,\n",
       " 'efx_qword_field': 10096,\n",
       " 'fsf_az_tx_ev_comp': 12899,\n",
       " 'fsf_az_tx_ev_desc_ptr': 12900,\n",
       " 'fsf_az_tx_ev_q_label': 12902,\n",
       " 'efx_max_txq_per_channel': 10086,\n",
       " 'efx_xmit_done': 10117,\n",
       " 'fsf_az_tx_ev_wq_ff_full': 12903,\n",
       " 'netif_tx_lock': 23551,\n",
       " 'net_dev': 23377,\n",
       " 'efx_farch_notify_tx_desc': 10077,\n",
       " 'netif_tx_unlock': 23558,\n",
       " 'fsf_az_tx_ev_pkt_err': 12901,\n",
       " 'efx_schedule_reset': 10103,\n",
       " 'reset_type_dma_error': 30431,\n",
       " 'netif_err': 23510,\n",
       " 'tx_err': 38067,\n",
       " 'unexpected': 38679,\n",
       " 'tx': 37998,\n",
       " 'efx_qword_fmt': 10097,\n",
       " 'efx_qword_val': 10099,\n",
       " 'efx_channel_get_tx_queue': 10065,\n",
       " 'meson_secure_pwrc_probe': 21373,\n",
       " 'platform_device': 27506,\n",
       " 'pdev': 26850,\n",
       " 'device_node': 8245,\n",
       " 'sm_np': 33886,\n",
       " 'meson_secure_pwrc': 21368,\n",
       " 'pwrc': 28685,\n",
       " 'meson_secure_pwrc_domain_data': 21370,\n",
       " 'match': 20623,\n",
       " 'of_device_get_match_data': 25348,\n",
       " 'dev_err': 8077,\n",
       " 'failed': 11628,\n",
       " 'to': 37290,\n",
       " 'get': 13285,\n",
       " 'data': 7445,\n",
       " 'enodev': 10449,\n",
       " 'of_find_compatible_node': 25360,\n",
       " 'amlogic': 1894,\n",
       " 'meson': 21343,\n",
       " 'gxbb': 14037,\n",
       " 'sm': 33881,\n",
       " 'no': 24423,\n",
       " 'secure': 32637,\n",
       " 'monitor': 22189,\n",
       " 'node': 24457,\n",
       " 'devm_kzalloc': 8371,\n",
       " 'of_node_put': 25419,\n",
       " 'fw': 13040,\n",
       " 'meson_sm_get': 21374,\n",
       " 'eprobe_defer': 10567,\n",
       " 'xlate': 41561,\n",
       " 'domains': 9075,\n",
       " 'devm_kcalloc': 8365,\n",
       " 'count': 6640,\n",
       " 'num_domains': 24883,\n",
       " 'platform_set_drvdata': 27533,\n",
       " 'for': 12420,\n",
       " 'meson_secure_pwrc_domain': 21369,\n",
       " 'dom': 9064,\n",
       " 'continue': 6541,\n",
       " 'base': 2951,\n",
       " 'name': 23165,\n",
       " 'flags': 12287,\n",
       " 'power_on': 27929,\n",
       " 'meson_secure_pwrc_on': 21372,\n",
       " 'power_off': 27927,\n",
       " 'meson_secure_pwrc_off': 21371,\n",
       " 'pm_genpd_init': 27610,\n",
       " 'is_off': 18122,\n",
       " 'of_genpd_add_provider_onecell': 25373,\n",
       " 'of_node': 25414,\n",
       " 'sram_probe': 34997,\n",
       " 'sram_platdata': 34996,\n",
       " 'pdata': 26838,\n",
       " 'platform_data': 27505,\n",
       " 'sram_bank_info': 34991,\n",
       " 'info': 16772,\n",
       " 'resource': 30448,\n",
       " 'res': 30354,\n",
       " 'ret': 30511,\n",
       " 'pool_name': 27829,\n",
       " 'platform_get_resource': 27525,\n",
       " 'ioresource_mem': 17508,\n",
       " 'memory': 21300,\n",
       " 'defined': 7856,\n",
       " 'out': 25941,\n",
       " 'resource_size': 30451,\n",
       " 'sram_phys': 34995,\n",
       " 'phys_addr_t': 27329,\n",
       " 'start': 35205,\n",
       " 'sram_size': 34999,\n",
       " 'sram_virt': 35000,\n",
       " 'ioremap': 17498,\n",
       " 'kstrdup': 19027,\n",
       " 'granularity': 13840,\n",
       " 'gpool': 13806,\n",
       " 'gen_pool_create': 13211,\n",
       " 'ilog2': 16539,\n",
       " 'create': 6885,\n",
       " 'pool': 27823,\n",
       " 'create_pool_err': 6892,\n",
       " 'gen_pool_add_virt': 13210,\n",
       " 'long': 20056,\n",
       " 'add': 1271,\n",
       " 'new': 23602,\n",
       " 'chunk': 5509,\n",
       " 'add_chunk_err': 1275,\n",
       " 'sram_lock': 34994,\n",
       " 'list_add': 19697,\n",
       " 'sram_bank_list': 34992,\n",
       " 'dev_info': 8095,\n",
       " 'initialized': 16898,\n",
       " 'gen_pool_destroy': 13212,\n",
       " 'iounmap': 17529,\n",
       " 'sram_remove': 34998,\n",
       " 'platform_get_drvdata': 27521,\n",
       " 'list_del': 19701,\n",
       " 'xvip_graph_dma_init': 41677,\n",
       " 'xvip_composite_device': 41676,\n",
       " 'xdev': 41268,\n",
       " 'ports': 27896,\n",
       " 'port': 27838,\n",
       " 'of_get_child_by_name': 25375,\n",
       " 'not': 24525,\n",
       " 'present': 28096,\n",
       " 'einval': 10163,\n",
       " 'for_each_child_of_node': 12426,\n",
       " 'xvip_graph_dma_init_one': 41678,\n",
       " 'break': 4283,\n",
       " 'nfcmrvl_play_deferred': 23868,\n",
       " 'nfcmrvl_usb_drv_data': 23869,\n",
       " 'drv_data': 9495,\n",
       " 'urb': 38927,\n",
       " 'err': 10606,\n",
       " 'usb_get_from_anchor': 39049,\n",
       " 'deferred': 7827,\n",
       " 'usb_anchor_urb': 38975,\n",
       " 'tx_anchor': 38001,\n",
       " 'usb_submit_urb': 39134,\n",
       " 'gfp_atomic': 13491,\n",
       " 'setup_packet': 33065,\n",
       " 'usb_unanchor_urb': 39145,\n",
       " 'usb_free_urb': 39033,\n",
       " 'tx_in_flight': 38083,\n",
       " 'usb_scuttle_anchored_urbs': 39115,\n",
       " 'roccat_report_event': 30823,\n",
       " 'minor': 21635,\n",
       " 'u8': 38283,\n",
       " 'roccat_device': 30820,\n",
       " 'roccat_reader': 30821,\n",
       " 'reader': 29760,\n",
       " 'roccat_report': 30822,\n",
       " 'report': 30226,\n",
       " 'uint8_t': 38605,\n",
       " 'new_value': 23643,\n",
       " 'devices': 8278,\n",
       " 'kmemdup': 18900,\n",
       " 'report_size': 30238,\n",
       " 'cbuf_lock': 5026,\n",
       " 'cbuf': 5024,\n",
       " 'cbuf_end': 5025,\n",
       " 'value': 39467,\n",
       " 'roccat_cbuf_size': 30819,\n",
       " 'list_for_each_entry': 19711,\n",
       " 'readers': 29761,\n",
       " 'cbuf_start': 5027,\n",
       " 'wake_up_interruptible': 40641,\n",
       " 'wait': 40580,\n",
       " 'file_operations': 12127,\n",
       " 'nouveau_pstate_fops': 24574,\n",
       " 'owner': 26198,\n",
       " 'this_module': 36933,\n",
       " 'open': 25636,\n",
       " 'nouveau_debugfs_pstate_open': 24572,\n",
       " 'read': 29701,\n",
       " 'seq_read': 32804,\n",
       " 'write': 41048,\n",
       " 'nouveau_debugfs_pstate_set': 24573,\n",
       " 'single_release': 33415,\n",
       " 'ip_mc_destroy_dev': 17611,\n",
       " 'in_device': 16627,\n",
       " 'in_dev': 16626,\n",
       " 'ip_mc_list': 17615,\n",
       " 'assert_rtnl': 2280,\n",
       " 'ip_mc_down': 17612,\n",
       " 'ifdef': 16313,\n",
       " 'config_ip_multicast': 6319,\n",
       " 'igmpv3_clear_delrec': 16431,\n",
       " 'endif': 10374,\n",
       " 'rtnl_dereference': 31266,\n",
       " 'mc_list': 20944,\n",
       " 'next_rcu': 23673,\n",
       " 'mc_count': 20936,\n",
       " 'ip_mc_clear_src': 17610,\n",
       " 'ip_ma_put': 17608,\n",
       " 'ethtool_phys_id': 10968,\n",
       " '__user': 875,\n",
       " 'useraddr': 39262,\n",
       " 'ethtool_value': 10969,\n",
       " 'id': 16006,\n",
       " 'busy': 4693,\n",
       " 'ethtool_ops': 10967,\n",
       " 'ops': 25673,\n",
       " 'netdevice_tracker': 23476,\n",
       " 'dev_tracker': 8176,\n",
       " 'set_phys_id': 32984,\n",
       " 'eopnotsupp': 10507,\n",
       " 'ebusy': 9880,\n",
       " 'copy_from_user': 6584,\n",
       " 'efault': 9968,\n",
       " 'ethtool_id_active': 10961,\n",
       " 'netdev_hold': 23432,\n",
       " 'rtnl_unlock': 31272,\n",
       " 'schedule_timeout_interruptible': 32257,\n",
       " 'hz': 15164,\n",
       " 'max_schedule_timeout': 20812,\n",
       " 'interval': 17180,\n",
       " 'u64': 38271,\n",
       " 'mul_u32_u32': 22957,\n",
       " 'do': 9001,\n",
       " 'rtnl_lock': 31269,\n",
       " 'ethtool_id_off': 10963,\n",
       " 'ethtool_id_on': 10964,\n",
       " 'signal_pending': 33384,\n",
       " 'current': 7171,\n",
       " 'netdev_put': 23446,\n",
       " 'ethtool_id_inactive': 10962,\n",
       " 'tegra_csi_channels_cleanup': 36748,\n",
       " 'tegra_csi': 36746,\n",
       " 'csi': 6988,\n",
       " 'v4l2_subdev': 39401,\n",
       " 'subdev': 35539,\n",
       " 'tegra_csi_channel': 36747,\n",
       " 'chan': 5360,\n",
       " 'tmp': 37252,\n",
       " 'list_for_each_entry_safe': 19715,\n",
       " 'csi_chans': 6990,\n",
       " 'mipi': 21648,\n",
       " 'tegra_mipi_free': 36760,\n",
       " 'is_enabled': 18073,\n",
       " 'config_video_tegra_tpg': 6428,\n",
       " 'v4l2_async_unregister_subdev': 39354,\n",
       " 'media_entity_cleanup': 21200,\n",
       " 'entity': 10483,\n",
       " 'snd_pcm_format_set_silence': 34419,\n",
       " 'snd_pcm_format_t': 34420,\n",
       " 'format': 12493,\n",
       " 'samples': 31953,\n",
       " 'width': 40799,\n",
       " 'char': 5400,\n",
       " 'dst': 9579,\n",
       " 'pat': 26527,\n",
       " 'sndrv_pcm_format_last': 34529,\n",
       " 'pcm_formats': 26803,\n",
       " 'phys': 27327,\n",
       " 'physical': 27344,\n",
       " 'silence': 33389,\n",
       " 'signd': 33386,\n",
       " 'bytes': 4726,\n",
       " 'memset': 21321,\n",
       " 'memcpy': 21291,\n",
       " 'switch': 35873,\n",
       " 'case': 4996,\n",
       " 'rtw_free_xmitframe_queue': 31320,\n",
       " 'xmit_priv': 41578,\n",
       " 'pxmitpriv': 28709,\n",
       " '__queue': 753,\n",
       " 'pframequeue': 27137,\n",
       " 'plist': 27548,\n",
       " 'phead': 27240,\n",
       " 'xmit_frame': 41573,\n",
       " 'pxmitframe': 28708,\n",
       " 'get_list_head': 13368,\n",
       " 'get_next': 13374,\n",
       " 'list_containor': 19700,\n",
       " 'rtw_free_xmitframe': 31319,\n",
       " 'spin_lock_bh': 34871,\n",
       " 'lock': 19929,\n",
       " 'spin_unlock_bh': 34879,\n",
       " 's32': 31785,\n",
       " 'rtw_xmit_classifier': 31352,\n",
       " 'adapter': 1263,\n",
       " 'padapter': 26287,\n",
       " 'ac_index': 1079,\n",
       " 'sta_info': 35170,\n",
       " 'psta': 28433,\n",
       " 'tx_servq': 38146,\n",
       " 'ptxservq': 28568,\n",
       " 'pkt_attrib': 27449,\n",
       " 'pattrib': 26547,\n",
       " 'attrib': 2589,\n",
       " 'xmitpriv': 41585,\n",
       " 'hw_xmit': 15082,\n",
       " 'phwxmits': 27241,\n",
       " 'hwxmits': 15127,\n",
       " 'sint': 33419,\n",
       " '_success': 992,\n",
       " 'dbg_counter': 7556,\n",
       " 'tx_logs': 38096,\n",
       " 'core_tx_enqueue_class': 6614,\n",
       " 'rtw_get_stainfo': 31324,\n",
       " 'stapriv': 35202,\n",
       " 'ra': 29391,\n",
       " 'core_tx_enqueue_class_err_sta': 6617,\n",
       " 'dbg_871x': 7553,\n",
       " '__func__': 549,\n",
       " '_fail': 931,\n",
       " 'core_tx_enqueue_class_err_nosta': 6616,\n",
       " 'dbg_8192c': 7552,\n",
       " 'rt_trace': 31190,\n",
       " '_module_rtl871x_xmit_c_': 950,\n",
       " '_drv_err_': 924,\n",
       " 'exit': 11122,\n",
       " 'state': 35243,\n",
       " '_fw_linked': 933,\n",
       " 'core_tx_enqueue_class_err_fwlink': 6615,\n",
       " '0x': 39,\n",
       " 'rtw_get_sta_pending': 31323,\n",
       " 'priority': 28177,\n",
       " '_index': 941,\n",
       " 'tx_pending': 38114,\n",
       " 'list_add_tail': 19698,\n",
       " 'sta_queue': 35173,\n",
       " 'sta_pending': 35171,\n",
       " 'qcnt': 28771,\n",
       " 'accnt': 1104,\n",
       " 'xmit_delivery_enabled_frames': 41571,\n",
       " 'wmmps_ac': 40910,\n",
       " 'xmitframe_plist': 41584,\n",
       " 'xmitframe_phead': 41583,\n",
       " 'sta_priv': 35172,\n",
       " 'pstapriv': 28435,\n",
       " 'sleep_q': 33832,\n",
       " 'uapsd_bk': 38290,\n",
       " 'bit': 3432,\n",
       " 'uapsd_vi': 38291,\n",
       " 'uapsd_vo': 38292,\n",
       " 'default': 7795,\n",
       " 'uapsd_be': 38289,\n",
       " 'sleepq_len': 33838,\n",
       " 'sleepq_ac_len': 33837,\n",
       " 'mdata': 21123,\n",
       " 'eosp': 10508,\n",
       " 'triggered': 37762,\n",
       " 'rtw_hal_xmitframe_enqueue': 31326,\n",
       " 'has_legacy_ac': 14135,\n",
       " 'tim_bitmap': 37028,\n",
       " 'aid': 1534,\n",
       " 'update_beacon': 38881,\n",
       " '_tim_ie_': 994,\n",
       " 'chk_bmc_sleepq_hdl': 5506,\n",
       " 'pbuf': 26559,\n",
       " 'psta_bmc': 28434,\n",
       " 'rtw_get_bcmc_stainfo': 31322,\n",
       " 'h2c_success': 14038,\n",
       " 'msleep': 22497,\n",
       " '10': 248,\n",
       " '10ms': 270,\n",
       " 'atim': 2476,\n",
       " 'hiq': 14638,\n",
       " 'windows': 40819,\n",
       " 'xmitframe_hiq_filter': 41582,\n",
       " 'qsel': 29245,\n",
       " '0x11': 103,\n",
       " 'rtw_chk_hi_queue_cmd': 31308,\n",
       " 'elevator_mq_ops': 10200,\n",
       " 'init_sched': 16868,\n",
       " 'request_queue': 30331,\n",
       " 'elevator_type': 10202,\n",
       " 'exit_sched': 11140,\n",
       " 'elevator_queue': 10201,\n",
       " 'init_hctx': 16825,\n",
       " 'blk_mq_hw_ctx': 3538,\n",
       " 'exit_hctx': 11132,\n",
       " 'depth_updated': 7935,\n",
       " 'allow_merge': 1679,\n",
       " 'request': 30311,\n",
       " 'bio': 3372,\n",
       " 'bio_merge': 3394,\n",
       " 'request_merge': 30326,\n",
       " 'request_merged': 30327,\n",
       " 'enum': 10494,\n",
       " 'elv_merge': 10233,\n",
       " 'requests_merged': 30344,\n",
       " 'limit_depth': 19615,\n",
       " 'blk_mq_alloc_data': 3519,\n",
       " 'prepare_request': 28086,\n",
       " 'finish_request': 12209,\n",
       " 'insert_requests': 16997,\n",
       " 'dispatch_request': 8651,\n",
       " 'has_work': 14149,\n",
       " 'completed_request': 6198,\n",
       " 'requeue_request': 30348,\n",
       " 'former_request': 12497,\n",
       " 'next_request': 23675,\n",
       " 'init_icq': 16830,\n",
       " 'io_cq': 17266,\n",
       " 'exit_icq': 11133,\n",
       " 'mt7615_unregister_device': 22622,\n",
       " 'mt7615_dev': 22615,\n",
       " 'mcu_running': 21085,\n",
       " 'mt7615_wait_for_mcu_init': 22624,\n",
       " 'mt7615_unregister_ext_phy': 22623,\n",
       " 'mt76_unregister_device': 22663,\n",
       " 'mt76': 22607,\n",
       " 'mt7615_mcu_exit': 22618,\n",
       " 'mt7615_tx_token_put': 22620,\n",
       " 'mt7615_dma_cleanup': 22616,\n",
       " 'tasklet_disable': 36258,\n",
       " 'irq_tasklet': 17986,\n",
       " 'mt76_free_device': 22640,\n",
       " 'ti_sci_pm_domain_probe': 36991,\n",
       " 'ti_sci_genpd_provider': 36986,\n",
       " 'pd_provider': 26835,\n",
       " 'ti_sci_pm_domain': 36990,\n",
       " 'pd': 26832,\n",
       " 'np': 24580,\n",
       " 'of_phandle_args': 25427,\n",
       " 'args': 2131,\n",
       " 'u32': 38265,\n",
       " 'max_id': 20732,\n",
       " 'ti_sci': 36985,\n",
       " 'devm_ti_sci_get_handle': 8415,\n",
       " 'is_err': 18075,\n",
       " 'ptr_err': 28555,\n",
       " 'init_list_head': 16842,\n",
       " 'pd_list': 26834,\n",
       " 'of_find_node_with_property': 25370,\n",
       " 'power': 27922,\n",
       " 'of_parse_phandle_with_args': 25426,\n",
       " 'domain': 9067,\n",
       " 'cells': 5172,\n",
       " 'args_count': 2132,\n",
       " 'devm_kasprintf': 8363,\n",
       " 'ti_sci_pd_power_off': 36987,\n",
       " 'ti_sci_pd_power_on': 36988,\n",
       " 'idx': 16080,\n",
       " 'ti_sci_pd_xlate': 36989,\n",
       " 'mt76_txq_schedule_list': 22660,\n",
       " 'mt76_phy': 22645,\n",
       " 'phy': 27242,\n",
       " 'mt76_txq_id': 22658,\n",
       " 'qid': 28946,\n",
       " 'mt76_queue': 22647,\n",
       " 'q_tx': 28733,\n",
       " 'mt76_dev': 22635,\n",
       " 'ieee80211_txq': 16274,\n",
       " 'txq': 38206,\n",
       " 'mt76_txq': 22657,\n",
       " 'mtxq': 22952,\n",
       " 'mt76_wcid': 22665,\n",
       " 'wcid': 40763,\n",
       " 'n_frames': 23144,\n",
       " 'test_bit': 36812,\n",
       " 'mt76_reset': 22653,\n",
       " 'queue_ops': 29303,\n",
       " 'tx_cleanup': 38033,\n",
       " 'queued': 29316,\n",
       " 'mt_txq_free_thr': 22776,\n",
       " 'ndesc': 23294,\n",
       " 'ieee80211_next_txq': 16227,\n",
       " 'hw': 15021,\n",
       " 'drv_priv': 9504,\n",
       " 'rcu_dereference': 29565,\n",
       " 'mt_wcid_flag_ps': 22778,\n",
       " 'send_bar': 32733,\n",
       " 'aggr': 1518,\n",
       " 'mtxq_to_txq': 22953,\n",
       " 'ieee80211_sta': 16258,\n",
       " 'sta': 35166,\n",
       " 'ieee80211_vif': 16277,\n",
       " 'vif': 40001,\n",
       " 'u16': 38259,\n",
       " 'agg_ssn': 1517,\n",
       " 'tid': 36997,\n",
       " 'ieee80211_send_bar': 16256,\n",
       " 'addr': 1303,\n",
       " 'mt76_txq_stopped': 22662,\n",
       " 'mt76_txq_send_burst': 22661,\n",
       " 'ieee80211_return_txq': 16240,\n",
       " 'mt7603_add_interface': 22608,\n",
       " 'ieee80211_hw': 16199,\n",
       " 'mt7603_vif': 22611,\n",
       " 'mvif': 23003,\n",
       " 'mt7603_dev': 22609,\n",
       " 'priv': 28180,\n",
       " 'bc_addr': 3070,\n",
       " 'eth_alen': 10921,\n",
       " 'mutex': 22976,\n",
       " 'ffs': 11996,\n",
       " 'vif_mask': 40002,\n",
       " 'mt7603_max_interfaces': 22610,\n",
       " 'enospc': 10460,\n",
       " 'mt76_wr': 22670,\n",
       " 'mt_mac_addr0': 22755,\n",
       " 'get_unaligned_le32': 13448,\n",
       " 'mt_mac_addr1': 22756,\n",
       " 'get_unaligned_le16': 13447,\n",
       " 'mt_mac_addr1_valid': 22757,\n",
       " 'nl80211_iftype_ap': 24322,\n",
       " 'mt_bssid0': 22742,\n",
       " 'mt_bssid1': 22743,\n",
       " 'mt_bssid1_valid': 22744,\n",
       " 'mt7603_wtbl_reserved': 22613,\n",
       " 'poll_list': 27800,\n",
       " 'hw_key_idx': 15049,\n",
       " 'mt76_packet_id_init': 22644,\n",
       " 'eth_broadcast_addr': 10922,\n",
       " 'mt7603_wtbl_init': 22612,\n",
       " 'rcu_assign_pointer': 29560,\n",
       " '__mdiobus_register': 675,\n",
       " 'mii_bus': 21578,\n",
       " 'module': 22175,\n",
       " 'mdio_device': 21144,\n",
       " 'mdiodev': 21166,\n",
       " 'gpio_desc': 13747,\n",
       " 'gpiod': 13785,\n",
       " 'bug_on': 4636,\n",
       " 'mdiobus_allocated': 21157,\n",
       " 'mdiobus_unregistered': 21165,\n",
       " 'class': 5658,\n",
       " 'mdio_bus_class': 21141,\n",
       " 'groups': 13881,\n",
       " 'device_register': 8258,\n",
       " 'pr_err': 28027,\n",
       " 'register': 30000,\n",
       " 'mutex_init': 22979,\n",
       " 'mdio_lock': 21149,\n",
       " 'devm_gpiod_get_optional': 8353,\n",
       " 'reset': 30393,\n",
       " 'gpiod_out_low': 13791,\n",
       " 'couldn': 6639,\n",
       " 'gpio': 13744,\n",
       " 'device_del': 8219,\n",
       " 'reset_gpiod': 30408,\n",
       " 'gpiod_set_value_cansleep': 13797,\n",
       " 'udelay': 38441,\n",
       " 'reset_delay_us': 30402,\n",
       " 'phy_max_addr': 27279,\n",
       " 'phy_mask': 27278,\n",
       " 'phy_device': 27253,\n",
       " 'phydev': 27316,\n",
       " 'mdiobus_scan': 21162,\n",
       " 'error': 10840,\n",
       " 'mdiobus_setup_mdiodev_from_board_info': 21163,\n",
       " 'mdiobus_create_device': 21158,\n",
       " 'mdiobus_registered': 21161,\n",
       " 'pr_info': 28032,\n",
       " 'probed': 28225,\n",
       " 'mdio_map': 21150,\n",
       " 'device_remove': 8260,\n",
       " 'device_free': 8226,\n",
       " 'file': 12107,\n",
       " 'secretmem_file_create': 32615,\n",
       " 'inode': 16932,\n",
       " 'alloc_anon_inode': 1610,\n",
       " 'secretmem_mnt': 32618,\n",
       " 'mnt_sb': 22127,\n",
       " 'err_cast': 10630,\n",
       " 'alloc_file_pseudo': 1628,\n",
       " 'secretmem': 32613,\n",
       " 'o_rdwr': 25191,\n",
       " 'secretmem_fops': 32616,\n",
       " 'err_free_inode': 10693,\n",
       " 'mapping_set_gfp_mask': 20591,\n",
       " 'i_mapping': 15405,\n",
       " 'gfp_highuser': 13495,\n",
       " 'mapping_set_unevictable': 20592,\n",
       " 'i_op': 15421,\n",
       " 'secretmem_iops': 32617,\n",
       " 'a_ops': 1029,\n",
       " 'secretmem_aops': 32614,\n",
       " 'i_mode': 15412,\n",
       " 's_ifreg': 31855,\n",
       " 'i_size': 15444,\n",
       " 'iput': 17754,\n",
       " '__init': 611,\n",
       " 'orangefs_init': 25781,\n",
       " '__u32': 858,\n",
       " 'op_timeout_secs': 25629,\n",
       " 'slot_timeout_secs': 33867,\n",
       " 'op_cache_initialize': 25625,\n",
       " 'orangefs_inode_cache_initialize': 25783,\n",
       " 'cleanup_op': 5709,\n",
       " 'orangefs_htable_ops_in_progress': 25780,\n",
       " 'kcalloc': 18637,\n",
       " 'hash_table_size': 14170,\n",
       " 'cleanup_inode': 5704,\n",
       " 'fsid_key_table_initialize': 12908,\n",
       " 'cleanup_progress_table': 5710,\n",
       " 'orangefs_prepare_debugfs_help_string': 25785,\n",
       " 'cleanup_key_table': 5705,\n",
       " 'orangefs_debugfs_init': 25775,\n",
       " 'module_parm_debug_mask': 22178,\n",
       " 'orangefs_sysfs_init': 25787,\n",
       " 'sysfs_init_failed': 36037,\n",
       " 'orangefs_dev_init': 25777,\n",
       " 'gossip_err': 13722,\n",
       " 'could': 6638,\n",
       " 'initialize': 16896,\n",
       " 'subsystem': 35606,\n",
       " 'cleanup_sysfs': 5716,\n",
       " 'register_filesystem': 30005,\n",
       " 'orangefs_fs_type': 25778,\n",
       " 'loaded': 19872,\n",
       " 'orangefs_version': 25788,\n",
       " 'orangefs_dev_cleanup': 25776,\n",
       " 'orangefs_sysfs_exit': 25786,\n",
       " 'orangefs_debugfs_cleanup': 25774,\n",
       " 'fsid_key_table_finalize': 12907,\n",
       " 'orangefs_inode_cache_finalize': 25782,\n",
       " 'op_cache_finalize': 25624,\n",
       " 'cleanup_device': 5702,\n",
       " 'bridge_platform_create': 4297,\n",
       " 'nasid_t': 23203,\n",
       " 'nasid': 23202,\n",
       " 'widget': 40797,\n",
       " 'masterwid': 20622,\n",
       " 'xtalk_bridge_platform_data': 41672,\n",
       " 'bd': 3167,\n",
       " 'sgi_w1_platform_data': 33199,\n",
       " 'wd': 40765,\n",
       " 'w1_res': 40558,\n",
       " 'offset': 25476,\n",
       " 'node_offset': 24475,\n",
       " 'no_mem': 24440,\n",
       " 'snprintf': 34566,\n",
       " 'dev_id': 8092,\n",
       " 'bridge': 4290,\n",
       " '012lx': 2,\n",
       " 'swin_size_bits': 35870,\n",
       " 'offsetof': 25480,\n",
       " 'bridge_regs': 4298,\n",
       " 'b_nic': 2851,\n",
       " 'end': 10352,\n",
       " 'platform_device_alloc': 27510,\n",
       " 'sgi_w1': 33198,\n",
       " 'platform_devid_auto': 27518,\n",
       " 'platform_device_add_resources': 27509,\n",
       " 'platform_device_add_data': 27508,\n",
       " 'platform_device_add': 27507,\n",
       " 'xtalk': 41671,\n",
       " 'bridge_addr': 4291,\n",
       " 'raw_node_swin_base': 29477,\n",
       " 'intr_addr': 17193,\n",
       " 'bit_ull': 3440,\n",
       " '47': 372,\n",
       " '0x01800000': 67,\n",
       " 'pi_int_pend_mod': 27352,\n",
       " 'mem': 21219,\n",
       " 'pci': 26600,\n",
       " 'bridge_devio0': 4294,\n",
       " 'swin_size': 35869,\n",
       " 'mem_offset': 21238,\n",
       " 'io': 17246,\n",
       " 'ioresource_io': 17506,\n",
       " 'io_offset': 17302,\n",
       " 'pr_warn': 28036,\n",
       " 'of': 25334,\n",
       " 'device_pm_check_callbacks': 8249,\n",
       " 'spin_lock_irqsave': 34874,\n",
       " 'no_pm_callbacks': 24446,\n",
       " 'pm_ops_is_empty': 27616,\n",
       " 'pm': 27570,\n",
       " 'suspend': 35758,\n",
       " 'resume': 30497,\n",
       " 'pm_domain': 27607,\n",
       " 'driver': 9309,\n",
       " 'spin_unlock_irqrestore': 34881,\n",
       " 'spin_lock_irq': 34873,\n",
       " 'spin_unlock_irq': 34880,\n",
       " '__remove_nexthop_fib': 776,\n",
       " 'net': 23368,\n",
       " 'nexthop': 23697,\n",
       " 'nh': 24187,\n",
       " 'fib6_info': 12031,\n",
       " 'f6i': 11560,\n",
       " 'do_flush': 9019,\n",
       " 'fib_info': 12059,\n",
       " 'fi': 12014,\n",
       " 'fi_list': 12024,\n",
       " 'nh_list': 24190,\n",
       " 'fib_flags': 12055,\n",
       " 'rtnh_f_dead': 31264,\n",
       " 'fib_flush': 12056,\n",
       " 'f6i_list': 11561,\n",
       " 'fib6_info_hold': 12032,\n",
       " 'ipv6_stub': 17812,\n",
       " 'ip6_del_rt': 17561,\n",
       " 'ipv4': 17755,\n",
       " 'sysctl_nexthop_compat_mode': 35993,\n",
       " 'taprio_destroy': 36176,\n",
       " 'qdisc': 28872,\n",
       " 'sch': 32207,\n",
       " 'taprio_sched': 36182,\n",
       " 'qdisc_priv': 28882,\n",
       " 'qdisc_dev': 28876,\n",
       " 'spin_lock': 34870,\n",
       " 'taprio_list_lock': 36180,\n",
       " 'taprio_list': 36179,\n",
       " 'spin_unlock': 34878,\n",
       " 'hrtimer_cancel': 14856,\n",
       " 'advance_timer': 1406,\n",
       " 'taprio_disable_offload': 36177,\n",
       " 'qdiscs': 28889,\n",
       " 'num_tx_queues': 24982,\n",
       " 'qdisc_put': 28883,\n",
       " 'netdev_reset_tc': 23451,\n",
       " 'oper_sched': 25658,\n",
       " 'call_rcu': 4841,\n",
       " 'rcu': 29557,\n",
       " 'taprio_free_sched_cb': 36178,\n",
       " 'admin_sched': 1376,\n",
       " 'tegra210_clock_init': 36729,\n",
       " 'clk_m_div': 5816,\n",
       " 'clk_base': 5781,\n",
       " 'of_iomap': 25401,\n",
       " 'tegra210': 36722,\n",
       " 'car': 4985,\n",
       " 'of_find_matching_node': 25364,\n",
       " 'pmc_match': 27668,\n",
       " 'find': 12180,\n",
       " 'pmc': 27664,\n",
       " 'warn_on': 40676,\n",
       " 'pmc_base': 27665,\n",
       " 'can': 4866,\n",
       " 'map': 20550,\n",
       " 'registers': 30038,\n",
       " 'clks': 5858,\n",
       " 'tegra_clk_init': 36743,\n",
       " 'tegra210_clk_clk_max': 36726,\n",
       " 'tegra210_car_bank_count': 36725,\n",
       " 'clk_readl': 5838,\n",
       " 'spare_reg0': 34770,\n",
       " 'clk_m_divisor_shift': 5818,\n",
       " 'clk_m_divisor_mask': 5817,\n",
       " 'tegra_osc_clk_init': 36761,\n",
       " 'tegra210_clks': 36727,\n",
       " 'tegra210_input_freq': 36732,\n",
       " 'array_size': 2225,\n",
       " 'osc_freq': 25825,\n",
       " 'pll_ref_freq': 27554,\n",
       " 'tegra_fixed_clk_init': 36755,\n",
       " 'tegra210_pll_init': 36735,\n",
       " 'tegra210_periph_clk_init': 36734,\n",
       " 'tegra_audio_clk_init': 36740,\n",
       " 'tegra210_audio_plls': 36724,\n",
       " 'tegra_pmc_clk_init': 36762,\n",
       " 'plld_base': 27560,\n",
       " '25': 325,\n",
       " 'clk_writel': 5852,\n",
       " 'tegra_clk_apply_init_table': 36741,\n",
       " 'tegra210_clock_apply_init_table': 36728,\n",
       " 'tegra_super_clk_gen5_init': 36768,\n",
       " 'pll_x_params': 27558,\n",
       " 'tegra_add_of_provider': 36739,\n",
       " 'tegra_register_devclks': 36763,\n",
       " 'devclks': 8198,\n",
       " 'tegra_cpu_car_ops': 36745,\n",
       " 'tegra210_cpu_car_ops': 36730,\n",
       " 'dvb_demux_open': 9675,\n",
       " 'dvb_device': 9676,\n",
       " 'dvbdev': 9697,\n",
       " 'private_data': 28196,\n",
       " 'dmxdev': 8977,\n",
       " 'dmxdev_filter': 8978,\n",
       " 'dmxdevfilter': 8982,\n",
       " 'filter': 12159,\n",
       " 'mutex_lock_interruptible': 22983,\n",
       " 'erestartsys': 10591,\n",
       " 'filternum': 12167,\n",
       " 'dmxdev_state_free': 8980,\n",
       " 'emfile': 10243,\n",
       " 'config_dvb_mmap': 6292,\n",
       " 'may_do_mmap': 20881,\n",
       " 'dvb_ringbuffer_init': 9692,\n",
       " 'buffer': 4614,\n",
       " '8192': 414,\n",
       " 'dvb_vb2_init': 9696,\n",
       " 'vb2_ctx': 39492,\n",
       " 'demux_filter': 7912,\n",
       " 'f_flags': 11564,\n",
       " 'o_nonblock': 25189,\n",
       " 'dmxdev_type_none': 8981,\n",
       " 'dvb_dmxdev_filter_state_set': 9681,\n",
       " 'dmxdev_state_allocated': 8979,\n",
       " 'timer_setup': 37075,\n",
       " 'timer': 37065,\n",
       " 'dvb_dmxdev_filter_timeout': 9682,\n",
       " 'users': 39272,\n",
       " 'ohci_hcd_tmio_drv_probe': 25495,\n",
       " 'mfd_cell': 21444,\n",
       " 'cell': 5170,\n",
       " 'mfd_get_cell': 21445,\n",
       " 'regs': 30058,\n",
       " 'config': 6252,\n",
       " 'sram': 34990,\n",
       " 'irq': 17899,\n",
       " 'platform_get_irq': 27522,\n",
       " 'tmio_hcd': 37243,\n",
       " 'tmio': 37242,\n",
       " 'ohci_hcd': 25491,\n",
       " 'ohci': 25487,\n",
       " 'usb_hcd': 39057,\n",
       " 'hcd': 14206,\n",
       " 'usb_disabled': 39002,\n",
       " 'usb_create_hcd': 38991,\n",
       " 'ohci_tmio_hc_driver': 25503,\n",
       " 'dev_name': 8124,\n",
       " 'err_usb_create_hcd': 10825,\n",
       " 'rsrc_start': 31126,\n",
       " 'rsrc_len': 31124,\n",
       " 'hcd_to_tmio': 14214,\n",
       " 'spin_lock_init': 34872,\n",
       " 'ccr': 5071,\n",
       " 'err_ioremap_ccr': 10723,\n",
       " 'err_ioremap_regs': 10724,\n",
       " 'enable': 10280,\n",
       " 'err_enable': 10680,\n",
       " 'tmio_start_hc': 37247,\n",
       " 'hcd_to_ohci': 14212,\n",
       " 'ohci_hcd_init': 25492,\n",
       " 'usb_hcd_setup_local_mem': 39059,\n",
       " 'usb_add_hcd': 38969,\n",
       " 'err_add_hcd': 10610,\n",
       " 'device_wakeup_enable': 8275,\n",
       " ...}"
      ]
     },
     "execution_count": 88,
     "metadata": {},
     "output_type": "execute_result"
    }
   ],
   "source": [
    "vectorizer.vocabulary_"
   ]
  },
  {
   "cell_type": "code",
   "execution_count": 89,
   "id": "c7cb26c7",
   "metadata": {},
   "outputs": [
    {
     "data": {
      "text/plain": [
       "array([[0, 0, 0, ..., 0, 0, 0],\n",
       "       [0, 0, 0, ..., 0, 0, 0],\n",
       "       [0, 0, 0, ..., 0, 0, 0],\n",
       "       ...,\n",
       "       [0, 0, 0, ..., 0, 0, 0],\n",
       "       [0, 0, 0, ..., 0, 0, 0],\n",
       "       [0, 0, 0, ..., 0, 0, 0]])"
      ]
     },
     "execution_count": 89,
     "metadata": {},
     "output_type": "execute_result"
    }
   ],
   "source": [
    "vectorizer.transform(df['tokenized_functions']).toarray()"
   ]
  },
  {
   "cell_type": "code",
   "execution_count": 90,
   "id": "d4778c77",
   "metadata": {},
   "outputs": [],
   "source": [
    "functions = df['tokenized_functions'].values\n",
    "y = df['isVulnerable'].values\n",
    "\n",
    "functions_train, functions_test, y_train, y_test = train_test_split(functions, y, test_size=0.2, random_state=42)"
   ]
  },
  {
   "cell_type": "code",
   "execution_count": 91,
   "id": "92295435",
   "metadata": {},
   "outputs": [],
   "source": [
    "vectorizer = CountVectorizer(min_df=0, tokenizer=None, preprocessor=None)\n",
    "vectorizer.fit(functions_train)\n",
    "\n",
    "X_train = vectorizer.transform(functions_train)\n",
    "X_test = vectorizer.transform(functions_test)"
   ]
  },
  {
   "cell_type": "code",
   "execution_count": 92,
   "id": "198ecd76",
   "metadata": {},
   "outputs": [
    {
     "data": {
      "text/plain": [
       "<17619x41439 sparse matrix of type '<class 'numpy.int64'>'\n",
       "\twith 700268 stored elements in Compressed Sparse Row format>"
      ]
     },
     "execution_count": 92,
     "metadata": {},
     "output_type": "execute_result"
    }
   ],
   "source": [
    "X_train"
   ]
  },
  {
   "cell_type": "code",
   "execution_count": 93,
   "id": "69d323d7",
   "metadata": {},
   "outputs": [],
   "source": [
    "y_train_1 = (y_train == 1)\n",
    "y_test_1 = (y_test == 1)"
   ]
  },
  {
   "cell_type": "code",
   "execution_count": 94,
   "id": "ce49b9bb",
   "metadata": {},
   "outputs": [
    {
     "data": {
      "text/html": [
       "<style>#sk-container-id-15 {color: black;background-color: white;}#sk-container-id-15 pre{padding: 0;}#sk-container-id-15 div.sk-toggleable {background-color: white;}#sk-container-id-15 label.sk-toggleable__label {cursor: pointer;display: block;width: 100%;margin-bottom: 0;padding: 0.3em;box-sizing: border-box;text-align: center;}#sk-container-id-15 label.sk-toggleable__label-arrow:before {content: \"▸\";float: left;margin-right: 0.25em;color: #696969;}#sk-container-id-15 label.sk-toggleable__label-arrow:hover:before {color: black;}#sk-container-id-15 div.sk-estimator:hover label.sk-toggleable__label-arrow:before {color: black;}#sk-container-id-15 div.sk-toggleable__content {max-height: 0;max-width: 0;overflow: hidden;text-align: left;background-color: #f0f8ff;}#sk-container-id-15 div.sk-toggleable__content pre {margin: 0.2em;color: black;border-radius: 0.25em;background-color: #f0f8ff;}#sk-container-id-15 input.sk-toggleable__control:checked~div.sk-toggleable__content {max-height: 200px;max-width: 100%;overflow: auto;}#sk-container-id-15 input.sk-toggleable__control:checked~label.sk-toggleable__label-arrow:before {content: \"▾\";}#sk-container-id-15 div.sk-estimator input.sk-toggleable__control:checked~label.sk-toggleable__label {background-color: #d4ebff;}#sk-container-id-15 div.sk-label input.sk-toggleable__control:checked~label.sk-toggleable__label {background-color: #d4ebff;}#sk-container-id-15 input.sk-hidden--visually {border: 0;clip: rect(1px 1px 1px 1px);clip: rect(1px, 1px, 1px, 1px);height: 1px;margin: -1px;overflow: hidden;padding: 0;position: absolute;width: 1px;}#sk-container-id-15 div.sk-estimator {font-family: monospace;background-color: #f0f8ff;border: 1px dotted black;border-radius: 0.25em;box-sizing: border-box;margin-bottom: 0.5em;}#sk-container-id-15 div.sk-estimator:hover {background-color: #d4ebff;}#sk-container-id-15 div.sk-parallel-item::after {content: \"\";width: 100%;border-bottom: 1px solid gray;flex-grow: 1;}#sk-container-id-15 div.sk-label:hover label.sk-toggleable__label {background-color: #d4ebff;}#sk-container-id-15 div.sk-serial::before {content: \"\";position: absolute;border-left: 1px solid gray;box-sizing: border-box;top: 0;bottom: 0;left: 50%;z-index: 0;}#sk-container-id-15 div.sk-serial {display: flex;flex-direction: column;align-items: center;background-color: white;padding-right: 0.2em;padding-left: 0.2em;position: relative;}#sk-container-id-15 div.sk-item {position: relative;z-index: 1;}#sk-container-id-15 div.sk-parallel {display: flex;align-items: stretch;justify-content: center;background-color: white;position: relative;}#sk-container-id-15 div.sk-item::before, #sk-container-id-15 div.sk-parallel-item::before {content: \"\";position: absolute;border-left: 1px solid gray;box-sizing: border-box;top: 0;bottom: 0;left: 50%;z-index: -1;}#sk-container-id-15 div.sk-parallel-item {display: flex;flex-direction: column;z-index: 1;position: relative;background-color: white;}#sk-container-id-15 div.sk-parallel-item:first-child::after {align-self: flex-end;width: 50%;}#sk-container-id-15 div.sk-parallel-item:last-child::after {align-self: flex-start;width: 50%;}#sk-container-id-15 div.sk-parallel-item:only-child::after {width: 0;}#sk-container-id-15 div.sk-dashed-wrapped {border: 1px dashed gray;margin: 0 0.4em 0.5em 0.4em;box-sizing: border-box;padding-bottom: 0.4em;background-color: white;}#sk-container-id-15 div.sk-label label {font-family: monospace;font-weight: bold;display: inline-block;line-height: 1.2em;}#sk-container-id-15 div.sk-label-container {text-align: center;}#sk-container-id-15 div.sk-container {/* jupyter's `normalize.less` sets `[hidden] { display: none; }` but bootstrap.min.css set `[hidden] { display: none !important; }` so we also need the `!important` here to be able to override the default hidden behavior on the sphinx rendered scikit-learn.org. See: https://github.com/scikit-learn/scikit-learn/issues/21755 */display: inline-block !important;position: relative;}#sk-container-id-15 div.sk-text-repr-fallback {display: none;}</style><div id=\"sk-container-id-15\" class=\"sk-top-container\"><div class=\"sk-text-repr-fallback\"><pre>SGDClassifier()</pre><b>In a Jupyter environment, please rerun this cell to show the HTML representation or trust the notebook. <br />On GitHub, the HTML representation is unable to render, please try loading this page with nbviewer.org.</b></div><div class=\"sk-container\" hidden><div class=\"sk-item\"><div class=\"sk-estimator sk-toggleable\"><input class=\"sk-toggleable__control sk-hidden--visually\" id=\"sk-estimator-id-15\" type=\"checkbox\" checked><label for=\"sk-estimator-id-15\" class=\"sk-toggleable__label sk-toggleable__label-arrow\">SGDClassifier</label><div class=\"sk-toggleable__content\"><pre>SGDClassifier()</pre></div></div></div></div></div>"
      ],
      "text/plain": [
       "SGDClassifier()"
      ]
     },
     "execution_count": 94,
     "metadata": {},
     "output_type": "execute_result"
    }
   ],
   "source": [
    "sgd_clf = SGDClassifier()\n",
    "sgd_clf.fit(X_train, y_train_1)"
   ]
  },
  {
   "cell_type": "code",
   "execution_count": 95,
   "id": "14fa6b78",
   "metadata": {},
   "outputs": [
    {
     "name": "stderr",
     "output_type": "stream",
     "text": [
      "[Parallel(n_jobs=1)]: Using backend SequentialBackend with 1 concurrent workers.\n",
      "[Parallel(n_jobs=1)]: Done   3 out of   3 | elapsed:    0.8s finished\n"
     ]
    },
    {
     "data": {
      "text/plain": [
       "array([0.7149668 , 0.69776945, 0.71752086])"
      ]
     },
     "execution_count": 95,
     "metadata": {},
     "output_type": "execute_result"
    }
   ],
   "source": [
    "cross_val_score(sgd_clf, X_train, y_train_1, cv=3, scoring=\"accuracy\", verbose=True)"
   ]
  },
  {
   "cell_type": "code",
   "execution_count": 96,
   "id": "66d768b2",
   "metadata": {},
   "outputs": [],
   "source": [
    "y_train_pred = cross_val_predict(sgd_clf, X_train, y_train_1, cv=3)"
   ]
  },
  {
   "cell_type": "code",
   "execution_count": 97,
   "id": "9f9f8f14",
   "metadata": {},
   "outputs": [
    {
     "data": {
      "text/plain": [
       "array([[6108, 2716],\n",
       "       [2460, 6335]])"
      ]
     },
     "execution_count": 97,
     "metadata": {},
     "output_type": "execute_result"
    }
   ],
   "source": [
    "confusion_matrix(y_train_1, y_train_pred)"
   ]
  },
  {
   "cell_type": "code",
   "execution_count": 98,
   "id": "2a37db64",
   "metadata": {},
   "outputs": [
    {
     "data": {
      "text/plain": [
       "0.699922660479505"
      ]
     },
     "execution_count": 98,
     "metadata": {},
     "output_type": "execute_result"
    }
   ],
   "source": [
    "precision_score(y_train_1, y_train_pred)"
   ]
  },
  {
   "cell_type": "code",
   "execution_count": 99,
   "id": "ddacffc8",
   "metadata": {},
   "outputs": [
    {
     "data": {
      "text/plain": [
       "0.7202956225127913"
      ]
     },
     "execution_count": 99,
     "metadata": {},
     "output_type": "execute_result"
    }
   ],
   "source": [
    "recall_score(y_train_1, y_train_pred)"
   ]
  },
  {
   "cell_type": "code",
   "execution_count": 100,
   "id": "3a729419",
   "metadata": {},
   "outputs": [
    {
     "data": {
      "text/plain": [
       "0.7099630169225597"
      ]
     },
     "execution_count": 100,
     "metadata": {},
     "output_type": "execute_result"
    }
   ],
   "source": [
    "f1_score(y_train_1, y_train_pred)"
   ]
  },
  {
   "cell_type": "code",
   "execution_count": 101,
   "id": "98155a85",
   "metadata": {},
   "outputs": [
    {
     "data": {
      "text/html": [
       "<style>#sk-container-id-16 {color: black;background-color: white;}#sk-container-id-16 pre{padding: 0;}#sk-container-id-16 div.sk-toggleable {background-color: white;}#sk-container-id-16 label.sk-toggleable__label {cursor: pointer;display: block;width: 100%;margin-bottom: 0;padding: 0.3em;box-sizing: border-box;text-align: center;}#sk-container-id-16 label.sk-toggleable__label-arrow:before {content: \"▸\";float: left;margin-right: 0.25em;color: #696969;}#sk-container-id-16 label.sk-toggleable__label-arrow:hover:before {color: black;}#sk-container-id-16 div.sk-estimator:hover label.sk-toggleable__label-arrow:before {color: black;}#sk-container-id-16 div.sk-toggleable__content {max-height: 0;max-width: 0;overflow: hidden;text-align: left;background-color: #f0f8ff;}#sk-container-id-16 div.sk-toggleable__content pre {margin: 0.2em;color: black;border-radius: 0.25em;background-color: #f0f8ff;}#sk-container-id-16 input.sk-toggleable__control:checked~div.sk-toggleable__content {max-height: 200px;max-width: 100%;overflow: auto;}#sk-container-id-16 input.sk-toggleable__control:checked~label.sk-toggleable__label-arrow:before {content: \"▾\";}#sk-container-id-16 div.sk-estimator input.sk-toggleable__control:checked~label.sk-toggleable__label {background-color: #d4ebff;}#sk-container-id-16 div.sk-label input.sk-toggleable__control:checked~label.sk-toggleable__label {background-color: #d4ebff;}#sk-container-id-16 input.sk-hidden--visually {border: 0;clip: rect(1px 1px 1px 1px);clip: rect(1px, 1px, 1px, 1px);height: 1px;margin: -1px;overflow: hidden;padding: 0;position: absolute;width: 1px;}#sk-container-id-16 div.sk-estimator {font-family: monospace;background-color: #f0f8ff;border: 1px dotted black;border-radius: 0.25em;box-sizing: border-box;margin-bottom: 0.5em;}#sk-container-id-16 div.sk-estimator:hover {background-color: #d4ebff;}#sk-container-id-16 div.sk-parallel-item::after {content: \"\";width: 100%;border-bottom: 1px solid gray;flex-grow: 1;}#sk-container-id-16 div.sk-label:hover label.sk-toggleable__label {background-color: #d4ebff;}#sk-container-id-16 div.sk-serial::before {content: \"\";position: absolute;border-left: 1px solid gray;box-sizing: border-box;top: 0;bottom: 0;left: 50%;z-index: 0;}#sk-container-id-16 div.sk-serial {display: flex;flex-direction: column;align-items: center;background-color: white;padding-right: 0.2em;padding-left: 0.2em;position: relative;}#sk-container-id-16 div.sk-item {position: relative;z-index: 1;}#sk-container-id-16 div.sk-parallel {display: flex;align-items: stretch;justify-content: center;background-color: white;position: relative;}#sk-container-id-16 div.sk-item::before, #sk-container-id-16 div.sk-parallel-item::before {content: \"\";position: absolute;border-left: 1px solid gray;box-sizing: border-box;top: 0;bottom: 0;left: 50%;z-index: -1;}#sk-container-id-16 div.sk-parallel-item {display: flex;flex-direction: column;z-index: 1;position: relative;background-color: white;}#sk-container-id-16 div.sk-parallel-item:first-child::after {align-self: flex-end;width: 50%;}#sk-container-id-16 div.sk-parallel-item:last-child::after {align-self: flex-start;width: 50%;}#sk-container-id-16 div.sk-parallel-item:only-child::after {width: 0;}#sk-container-id-16 div.sk-dashed-wrapped {border: 1px dashed gray;margin: 0 0.4em 0.5em 0.4em;box-sizing: border-box;padding-bottom: 0.4em;background-color: white;}#sk-container-id-16 div.sk-label label {font-family: monospace;font-weight: bold;display: inline-block;line-height: 1.2em;}#sk-container-id-16 div.sk-label-container {text-align: center;}#sk-container-id-16 div.sk-container {/* jupyter's `normalize.less` sets `[hidden] { display: none; }` but bootstrap.min.css set `[hidden] { display: none !important; }` so we also need the `!important` here to be able to override the default hidden behavior on the sphinx rendered scikit-learn.org. See: https://github.com/scikit-learn/scikit-learn/issues/21755 */display: inline-block !important;position: relative;}#sk-container-id-16 div.sk-text-repr-fallback {display: none;}</style><div id=\"sk-container-id-16\" class=\"sk-top-container\"><div class=\"sk-text-repr-fallback\"><pre>LogisticRegression(max_iter=2000)</pre><b>In a Jupyter environment, please rerun this cell to show the HTML representation or trust the notebook. <br />On GitHub, the HTML representation is unable to render, please try loading this page with nbviewer.org.</b></div><div class=\"sk-container\" hidden><div class=\"sk-item\"><div class=\"sk-estimator sk-toggleable\"><input class=\"sk-toggleable__control sk-hidden--visually\" id=\"sk-estimator-id-16\" type=\"checkbox\" checked><label for=\"sk-estimator-id-16\" class=\"sk-toggleable__label sk-toggleable__label-arrow\">LogisticRegression</label><div class=\"sk-toggleable__content\"><pre>LogisticRegression(max_iter=2000)</pre></div></div></div></div></div>"
      ],
      "text/plain": [
       "LogisticRegression(max_iter=2000)"
      ]
     },
     "execution_count": 101,
     "metadata": {},
     "output_type": "execute_result"
    }
   ],
   "source": [
    "lr_clf = LogisticRegression(max_iter=2000)\n",
    "lr_clf.fit(X_train, y_train_1)"
   ]
  },
  {
   "cell_type": "code",
   "execution_count": 102,
   "id": "f7099127",
   "metadata": {},
   "outputs": [
    {
     "name": "stderr",
     "output_type": "stream",
     "text": [
      "[Parallel(n_jobs=1)]: Using backend SequentialBackend with 1 concurrent workers.\n",
      "[Parallel(n_jobs=1)]: Done   3 out of   3 | elapsed:   22.1s finished\n"
     ]
    },
    {
     "data": {
      "text/plain": [
       "array([0.73625064, 0.73301549, 0.74646688])"
      ]
     },
     "execution_count": 102,
     "metadata": {},
     "output_type": "execute_result"
    }
   ],
   "source": [
    "cross_val_score(lr_clf, X_train, y_train_1, cv=3, scoring=\"accuracy\", verbose=True)"
   ]
  },
  {
   "cell_type": "code",
   "execution_count": 103,
   "id": "910f9a89",
   "metadata": {},
   "outputs": [],
   "source": [
    "y_train_pred = cross_val_predict(lr_clf, X_train, y_train_1, cv=3)"
   ]
  },
  {
   "cell_type": "code",
   "execution_count": 104,
   "id": "de00f97b",
   "metadata": {},
   "outputs": [
    {
     "data": {
      "text/plain": [
       "array([[6502, 2322],\n",
       "       [2284, 6511]])"
      ]
     },
     "execution_count": 104,
     "metadata": {},
     "output_type": "execute_result"
    }
   ],
   "source": [
    "confusion_matrix(y_train_1, y_train_pred)"
   ]
  },
  {
   "cell_type": "code",
   "execution_count": 105,
   "id": "f3b58d19",
   "metadata": {},
   "outputs": [
    {
     "data": {
      "text/plain": [
       "0.7371221555530397"
      ]
     },
     "execution_count": 105,
     "metadata": {},
     "output_type": "execute_result"
    }
   ],
   "source": [
    "precision_score(y_train_1, y_train_pred)"
   ]
  },
  {
   "cell_type": "code",
   "execution_count": 106,
   "id": "46e94ba6",
   "metadata": {},
   "outputs": [
    {
     "data": {
      "text/plain": [
       "0.7403069926094372"
      ]
     },
     "execution_count": 106,
     "metadata": {},
     "output_type": "execute_result"
    }
   ],
   "source": [
    "recall_score(y_train_1, y_train_pred)"
   ]
  },
  {
   "cell_type": "code",
   "execution_count": 107,
   "id": "65e856d1",
   "metadata": {},
   "outputs": [
    {
     "data": {
      "text/plain": [
       "0.7387111413660087"
      ]
     },
     "execution_count": 107,
     "metadata": {},
     "output_type": "execute_result"
    }
   ],
   "source": [
    "f1_score(y_train_1, y_train_pred)"
   ]
  },
  {
   "cell_type": "code",
   "execution_count": 108,
   "id": "a2804abf",
   "metadata": {},
   "outputs": [
    {
     "data": {
      "text/html": [
       "<style>#sk-container-id-17 {color: black;background-color: white;}#sk-container-id-17 pre{padding: 0;}#sk-container-id-17 div.sk-toggleable {background-color: white;}#sk-container-id-17 label.sk-toggleable__label {cursor: pointer;display: block;width: 100%;margin-bottom: 0;padding: 0.3em;box-sizing: border-box;text-align: center;}#sk-container-id-17 label.sk-toggleable__label-arrow:before {content: \"▸\";float: left;margin-right: 0.25em;color: #696969;}#sk-container-id-17 label.sk-toggleable__label-arrow:hover:before {color: black;}#sk-container-id-17 div.sk-estimator:hover label.sk-toggleable__label-arrow:before {color: black;}#sk-container-id-17 div.sk-toggleable__content {max-height: 0;max-width: 0;overflow: hidden;text-align: left;background-color: #f0f8ff;}#sk-container-id-17 div.sk-toggleable__content pre {margin: 0.2em;color: black;border-radius: 0.25em;background-color: #f0f8ff;}#sk-container-id-17 input.sk-toggleable__control:checked~div.sk-toggleable__content {max-height: 200px;max-width: 100%;overflow: auto;}#sk-container-id-17 input.sk-toggleable__control:checked~label.sk-toggleable__label-arrow:before {content: \"▾\";}#sk-container-id-17 div.sk-estimator input.sk-toggleable__control:checked~label.sk-toggleable__label {background-color: #d4ebff;}#sk-container-id-17 div.sk-label input.sk-toggleable__control:checked~label.sk-toggleable__label {background-color: #d4ebff;}#sk-container-id-17 input.sk-hidden--visually {border: 0;clip: rect(1px 1px 1px 1px);clip: rect(1px, 1px, 1px, 1px);height: 1px;margin: -1px;overflow: hidden;padding: 0;position: absolute;width: 1px;}#sk-container-id-17 div.sk-estimator {font-family: monospace;background-color: #f0f8ff;border: 1px dotted black;border-radius: 0.25em;box-sizing: border-box;margin-bottom: 0.5em;}#sk-container-id-17 div.sk-estimator:hover {background-color: #d4ebff;}#sk-container-id-17 div.sk-parallel-item::after {content: \"\";width: 100%;border-bottom: 1px solid gray;flex-grow: 1;}#sk-container-id-17 div.sk-label:hover label.sk-toggleable__label {background-color: #d4ebff;}#sk-container-id-17 div.sk-serial::before {content: \"\";position: absolute;border-left: 1px solid gray;box-sizing: border-box;top: 0;bottom: 0;left: 50%;z-index: 0;}#sk-container-id-17 div.sk-serial {display: flex;flex-direction: column;align-items: center;background-color: white;padding-right: 0.2em;padding-left: 0.2em;position: relative;}#sk-container-id-17 div.sk-item {position: relative;z-index: 1;}#sk-container-id-17 div.sk-parallel {display: flex;align-items: stretch;justify-content: center;background-color: white;position: relative;}#sk-container-id-17 div.sk-item::before, #sk-container-id-17 div.sk-parallel-item::before {content: \"\";position: absolute;border-left: 1px solid gray;box-sizing: border-box;top: 0;bottom: 0;left: 50%;z-index: -1;}#sk-container-id-17 div.sk-parallel-item {display: flex;flex-direction: column;z-index: 1;position: relative;background-color: white;}#sk-container-id-17 div.sk-parallel-item:first-child::after {align-self: flex-end;width: 50%;}#sk-container-id-17 div.sk-parallel-item:last-child::after {align-self: flex-start;width: 50%;}#sk-container-id-17 div.sk-parallel-item:only-child::after {width: 0;}#sk-container-id-17 div.sk-dashed-wrapped {border: 1px dashed gray;margin: 0 0.4em 0.5em 0.4em;box-sizing: border-box;padding-bottom: 0.4em;background-color: white;}#sk-container-id-17 div.sk-label label {font-family: monospace;font-weight: bold;display: inline-block;line-height: 1.2em;}#sk-container-id-17 div.sk-label-container {text-align: center;}#sk-container-id-17 div.sk-container {/* jupyter's `normalize.less` sets `[hidden] { display: none; }` but bootstrap.min.css set `[hidden] { display: none !important; }` so we also need the `!important` here to be able to override the default hidden behavior on the sphinx rendered scikit-learn.org. See: https://github.com/scikit-learn/scikit-learn/issues/21755 */display: inline-block !important;position: relative;}#sk-container-id-17 div.sk-text-repr-fallback {display: none;}</style><div id=\"sk-container-id-17\" class=\"sk-top-container\"><div class=\"sk-text-repr-fallback\"><pre>MultinomialNB()</pre><b>In a Jupyter environment, please rerun this cell to show the HTML representation or trust the notebook. <br />On GitHub, the HTML representation is unable to render, please try loading this page with nbviewer.org.</b></div><div class=\"sk-container\" hidden><div class=\"sk-item\"><div class=\"sk-estimator sk-toggleable\"><input class=\"sk-toggleable__control sk-hidden--visually\" id=\"sk-estimator-id-17\" type=\"checkbox\" checked><label for=\"sk-estimator-id-17\" class=\"sk-toggleable__label sk-toggleable__label-arrow\">MultinomialNB</label><div class=\"sk-toggleable__content\"><pre>MultinomialNB()</pre></div></div></div></div></div>"
      ],
      "text/plain": [
       "MultinomialNB()"
      ]
     },
     "execution_count": 108,
     "metadata": {},
     "output_type": "execute_result"
    }
   ],
   "source": [
    "mnb_clf = MultinomialNB()\n",
    "mnb_clf.fit(X_train, y_train_1)"
   ]
  },
  {
   "cell_type": "code",
   "execution_count": 109,
   "id": "7e0292e3",
   "metadata": {},
   "outputs": [
    {
     "name": "stderr",
     "output_type": "stream",
     "text": [
      "[Parallel(n_jobs=1)]: Using backend SequentialBackend with 1 concurrent workers.\n",
      "[Parallel(n_jobs=1)]: Done   3 out of   3 | elapsed:    0.0s finished\n"
     ]
    },
    {
     "data": {
      "text/plain": [
       "array([0.42159033, 0.42312277, 0.4287417 ])"
      ]
     },
     "execution_count": 109,
     "metadata": {},
     "output_type": "execute_result"
    }
   ],
   "source": [
    "cross_val_score(mnb_clf, X_train, y_train_1, cv=3, scoring=\"accuracy\", verbose=True)"
   ]
  },
  {
   "cell_type": "code",
   "execution_count": 110,
   "id": "08142b5d",
   "metadata": {},
   "outputs": [],
   "source": [
    "y_train_pred = cross_val_predict(mnb_clf, X_train, y_train_1, cv=3)"
   ]
  },
  {
   "cell_type": "code",
   "execution_count": 111,
   "id": "b7bc198e",
   "metadata": {},
   "outputs": [
    {
     "data": {
      "text/plain": [
       "array([[3923, 4901],\n",
       "       [5239, 3556]])"
      ]
     },
     "execution_count": 111,
     "metadata": {},
     "output_type": "execute_result"
    }
   ],
   "source": [
    "confusion_matrix(y_train_1, y_train_pred)"
   ]
  },
  {
   "cell_type": "code",
   "execution_count": 112,
   "id": "86aa07d2",
   "metadata": {},
   "outputs": [
    {
     "data": {
      "text/plain": [
       "0.420480075676954"
      ]
     },
     "execution_count": 112,
     "metadata": {},
     "output_type": "execute_result"
    }
   ],
   "source": [
    "precision_score(y_train_1, y_train_pred)"
   ]
  },
  {
   "cell_type": "code",
   "execution_count": 113,
   "id": "18e0c73d",
   "metadata": {},
   "outputs": [
    {
     "data": {
      "text/plain": [
       "0.4043206367254122"
      ]
     },
     "execution_count": 113,
     "metadata": {},
     "output_type": "execute_result"
    }
   ],
   "source": [
    "recall_score(y_train_1, y_train_pred)"
   ]
  },
  {
   "cell_type": "code",
   "execution_count": 114,
   "id": "a75310ab",
   "metadata": {},
   "outputs": [
    {
     "data": {
      "text/plain": [
       "0.4122420588917227"
      ]
     },
     "execution_count": 114,
     "metadata": {},
     "output_type": "execute_result"
    }
   ],
   "source": [
    "f1_score(y_train_1, y_train_pred)"
   ]
  },
  {
   "cell_type": "code",
   "execution_count": null,
   "id": "d74182df",
   "metadata": {},
   "outputs": [],
   "source": []
  }
 ],
 "metadata": {
  "kernelspec": {
   "display_name": "Python 3 (ipykernel)",
   "language": "python",
   "name": "python3"
  },
  "language_info": {
   "codemirror_mode": {
    "name": "ipython",
    "version": 3
   },
   "file_extension": ".py",
   "mimetype": "text/x-python",
   "name": "python",
   "nbconvert_exporter": "python",
   "pygments_lexer": "ipython3",
   "version": "3.8.10"
  }
 },
 "nbformat": 4,
 "nbformat_minor": 5
}
