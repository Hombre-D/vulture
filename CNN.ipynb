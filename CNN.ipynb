{
 "cells": [
  {
   "cell_type": "markdown",
   "id": "78e946a8",
   "metadata": {},
   "source": [
    "Convolutional Neural Network\n",
    "https://realpython.com/python-keras-text-classification/"
   ]
  },
  {
   "cell_type": "code",
   "execution_count": 8,
   "id": "8d4d322a",
   "metadata": {},
   "outputs": [],
   "source": [
    "import sqlite3\n",
    "import pandas as pd\n",
    "\n",
    "df = pd.read_csv('preprocessed_data.csv', index_col=0)"
   ]
  },
  {
   "cell_type": "code",
   "execution_count": 9,
   "id": "9c1c6a58",
   "metadata": {},
   "outputs": [],
   "source": [
    "from sklearn.model_selection import train_test_split\n",
    "\n",
    "functions = df['function'].values\n",
    "y = df['isVulnerable'].values\n",
    "\n",
    "functions_train, functions_test, y_train, y_test = train_test_split(functions, y, test_size=0.2, random_state=42)\n"
   ]
  },
  {
   "cell_type": "code",
   "execution_count": 10,
   "id": "906d36c9",
   "metadata": {},
   "outputs": [],
   "source": [
    "from keras.preprocessing.text import Tokenizer\n",
    "from nltk.tokenize import wordpunct_tokenize\n",
    "\n",
    "tokenizer = Tokenizer(analyzer=wordpunct_tokenize)\n",
    "tokenizer.fit_on_texts(functions_train)\n",
    "\n",
    "X_train = tokenizer.texts_to_sequences(functions_train)\n",
    "X_test = tokenizer.texts_to_sequences(functions_test)\n",
    "\n",
    "vocab_size = len(tokenizer.word_index) + 1\n"
   ]
  },
  {
   "cell_type": "code",
   "execution_count": 11,
   "id": "51d15b30",
   "metadata": {},
   "outputs": [
    {
     "name": "stdout",
     "output_type": "stream",
     "text": [
      "42726\n"
     ]
    }
   ],
   "source": [
    "print(vocab_size)"
   ]
  },
  {
   "cell_type": "code",
   "execution_count": 12,
   "id": "ac4110c9",
   "metadata": {},
   "outputs": [
    {
     "name": "stdout",
     "output_type": "stream",
     "text": [
      "[   36  2563     1     9    53    10    53     7    11  5081    66  3088\n",
      "  2563     4    53     6   259    38    79    33    53     5     8    24\n",
      "    53     2  2812    50   122  4726     1    53    27    11  2724     1\n",
      "    53     5     8     1  3089     1    53   152  5082    42  5083     7\n",
      "    11     9    53    10  4321     6  1463     1    53     2   417   152\n",
      "  4321     3  2071    13    53     2  1151     5     8     1  5084     1\n",
      "  5085     4    53    27  5086     1    53     5     8     1  4321    50\n",
      "  3089     1  4321   152 22963     7  5087     1    53     5  2724     1\n",
      "    53     5  5088     1    53     5    12    12    52    11  2071    13\n",
      "    53     2  1151     5    12  5089     1    53     5  5090     1    53\n",
      "     5    12     0     0     0     0     0     0     0     0     0     0\n",
      "     0     0     0     0     0     0     0     0     0     0     0     0\n",
      "     0     0     0     0     0     0     0     0     0     0     0     0\n",
      "     0     0     0     0     0     0     0     0     0     0     0     0\n",
      "     0     0     0     0     0     0     0     0     0     0     0     0\n",
      "     0     0     0     0     0     0     0     0     0     0     0     0\n",
      "     0     0     0     0     0     0     0     0     0     0     0     0\n",
      "     0     0     0     0     0     0     0     0     0     0     0     0\n",
      "     0     0     0     0     0     0     0     0     0     0     0     0\n",
      "     0     0     0     0     0     0     0     0     0     0     0     0\n",
      "     0     0     0     0     0     0     0     0     0     0     0     0\n",
      "     0     0     0     0     0     0     0     0     0     0     0     0\n",
      "     0     0     0     0     0     0     0     0     0     0     0     0\n",
      "     0     0     0     0     0     0     0     0     0     0     0     0\n",
      "     0     0     0     0     0     0     0     0     0     0     0     0\n",
      "     0     0     0     0     0     0     0     0     0     0     0     0\n",
      "     0     0     0     0     0     0     0     0     0     0     0     0\n",
      "     0     0     0     0     0     0     0     0     0     0     0     0\n",
      "     0     0     0     0     0     0     0     0     0     0     0     0\n",
      "     0     0     0     0     0     0     0     0     0     0     0     0\n",
      "     0     0     0     0     0     0     0     0     0     0     0     0\n",
      "     0     0     0     0     0     0     0     0     0     0     0     0\n",
      "     0     0     0     0     0     0     0     0     0     0     0     0\n",
      "     0     0     0     0     0     0     0     0     0     0     0     0\n",
      "     0     0     0     0     0     0     0     0     0     0     0     0\n",
      "     0     0     0     0     0     0     0     0     0     0     0     0\n",
      "     0     0     0     0     0     0     0     0     0     0     0     0\n",
      "     0     0     0     0     0     0     0     0     0     0     0     0\n",
      "     0     0     0     0     0     0     0     0     0     0     0     0\n",
      "     0     0     0     0     0     0     0     0     0     0     0     0\n",
      "     0     0     0     0     0     0     0     0     0     0     0     0\n",
      "     0     0     0     0     0     0     0     0]\n"
     ]
    }
   ],
   "source": [
    "from keras.utils import pad_sequences\n",
    "\n",
    "maxlen = 500\n",
    "\n",
    "X_train = pad_sequences(X_train, padding='post', maxlen=maxlen)\n",
    "X_test = pad_sequences(X_test, padding='post', maxlen=maxlen)\n",
    "\n",
    "print(X_train[0])"
   ]
  },
  {
   "cell_type": "code",
   "execution_count": 13,
   "id": "f2abcbdb",
   "metadata": {},
   "outputs": [
    {
     "name": "stdout",
     "output_type": "stream",
     "text": [
      "Model: \"sequential\"\n",
      "_________________________________________________________________\n",
      " Layer (type)                Output Shape              Param #   \n",
      "=================================================================\n",
      " embedding (Embedding)       (None, 500, 100)          4272600   \n",
      "                                                                 \n",
      " conv1d (Conv1D)             (None, 496, 128)          64128     \n",
      "                                                                 \n",
      " global_max_pooling1d (Globa  (None, 128)              0         \n",
      " lMaxPooling1D)                                                  \n",
      "                                                                 \n",
      " dense (Dense)               (None, 10)                1290      \n",
      "                                                                 \n",
      " dense_1 (Dense)             (None, 1)                 11        \n",
      "                                                                 \n",
      "=================================================================\n",
      "Total params: 4,338,029\n",
      "Trainable params: 4,338,029\n",
      "Non-trainable params: 0\n",
      "_________________________________________________________________\n"
     ]
    }
   ],
   "source": [
    "from keras.models import Sequential\n",
    "from keras import layers\n",
    "\n",
    "embedding_dim=100\n",
    "\n",
    "model = Sequential()\n",
    "model.add(layers.Embedding(vocab_size, embedding_dim, input_length=maxlen))\n",
    "model.add(layers.Conv1D(128, 5, activation='relu'))\n",
    "model.add(layers.GlobalMaxPooling1D())\n",
    "model.add(layers.Dense(10, activation='relu'))\n",
    "model.add(layers.Dense(1, activation='sigmoid'))\n",
    "model.compile(optimizer='adam',\n",
    "              loss='binary_crossentropy',\n",
    "              metrics=['accuracy'])\n",
    "model.summary()"
   ]
  },
  {
   "cell_type": "code",
   "execution_count": 14,
   "id": "af7a94c3",
   "metadata": {},
   "outputs": [
    {
     "name": "stdout",
     "output_type": "stream",
     "text": [
      "Epoch 1/10\n"
     ]
    },
    {
     "name": "stderr",
     "output_type": "stream",
     "text": [
      "2023-05-03 18:09:20.466276: W tensorflow/tsl/framework/cpu_allocator_impl.cc:83] Allocation of 35238000 exceeds 10% of free system memory.\n"
     ]
    },
    {
     "name": "stdout",
     "output_type": "stream",
     "text": [
      "1762/1762 [==============================] - 110s 62ms/step - loss: 0.6933 - accuracy: 0.5004 - val_loss: 0.6932 - val_accuracy: 0.4924\n",
      "Epoch 2/10\n",
      "1762/1762 [==============================] - 107s 61ms/step - loss: 0.6931 - accuracy: 0.5054 - val_loss: 0.6930 - val_accuracy: 0.5078\n",
      "Epoch 3/10\n",
      "1762/1762 [==============================] - 105s 60ms/step - loss: 0.6929 - accuracy: 0.5000 - val_loss: 0.6930 - val_accuracy: 0.5078\n",
      "Epoch 4/10\n",
      "1762/1762 [==============================] - 106s 60ms/step - loss: 0.6894 - accuracy: 0.5077 - val_loss: 0.6887 - val_accuracy: 0.4999\n",
      "Epoch 5/10\n",
      "1762/1762 [==============================] - 101s 57ms/step - loss: 0.6869 - accuracy: 0.5081 - val_loss: 0.6879 - val_accuracy: 0.5006\n",
      "Epoch 6/10\n",
      "1762/1762 [==============================] - 106s 60ms/step - loss: 0.6866 - accuracy: 0.5097 - val_loss: 0.6877 - val_accuracy: 0.5015\n",
      "Epoch 7/10\n",
      "1762/1762 [==============================] - 105s 60ms/step - loss: 0.6859 - accuracy: 0.5118 - val_loss: 0.6885 - val_accuracy: 0.5012\n",
      "Epoch 8/10\n",
      "1762/1762 [==============================] - 105s 59ms/step - loss: 0.6856 - accuracy: 0.5122 - val_loss: 0.6868 - val_accuracy: 0.5026\n",
      "Epoch 9/10\n",
      "1762/1762 [==============================] - 104s 59ms/step - loss: 0.6852 - accuracy: 0.5138 - val_loss: 0.6870 - val_accuracy: 0.5019\n",
      "Epoch 10/10\n",
      "1762/1762 [==============================] - 108s 61ms/step - loss: 0.6840 - accuracy: 0.5143 - val_loss: 0.6869 - val_accuracy: 0.5024\n"
     ]
    },
    {
     "name": "stderr",
     "output_type": "stream",
     "text": [
      "2023-05-03 18:26:58.384384: W tensorflow/tsl/framework/cpu_allocator_impl.cc:83] Allocation of 35238000 exceeds 10% of free system memory.\n"
     ]
    },
    {
     "name": "stdout",
     "output_type": "stream",
     "text": [
      "Training Accuracy: 0.5147\n",
      "Testing Accuracy:  0.5024\n"
     ]
    }
   ],
   "source": [
    "from keras.backend import clear_session\n",
    "clear_session()\n",
    "\n",
    "history = model.fit(X_train, y_train,\n",
    "                    epochs=10,\n",
    "                    verbose=True,\n",
    "                    validation_data=(X_test, y_test),\n",
    "                    batch_size=10)\n",
    "loss, accuracy = model.evaluate(X_train, y_train, verbose=False)\n",
    "print(\"Training Accuracy: {:.4f}\".format(accuracy))\n",
    "loss, accuracy = model.evaluate(X_test, y_test, verbose=False)\n",
    "print(\"Testing Accuracy:  {:.4f}\".format(accuracy))"
   ]
  },
  {
   "cell_type": "code",
   "execution_count": null,
   "id": "e3cf3f35",
   "metadata": {},
   "outputs": [],
   "source": []
  }
 ],
 "metadata": {
  "kernelspec": {
   "display_name": "Python 3 (ipykernel)",
   "language": "python",
   "name": "python3"
  },
  "language_info": {
   "codemirror_mode": {
    "name": "ipython",
    "version": 3
   },
   "file_extension": ".py",
   "mimetype": "text/x-python",
   "name": "python",
   "nbconvert_exporter": "python",
   "pygments_lexer": "ipython3",
   "version": "3.8.10"
  }
 },
 "nbformat": 4,
 "nbformat_minor": 5
}
