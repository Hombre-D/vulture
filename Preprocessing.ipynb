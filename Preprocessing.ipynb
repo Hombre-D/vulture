{
 "cells": [
  {
   "cell_type": "markdown",
   "id": "5ec60b4a",
   "metadata": {},
   "source": [
    "Setting up the dataframe and testing it out"
   ]
  },
  {
   "cell_type": "code",
   "execution_count": 1,
   "id": "deba499e",
   "metadata": {},
   "outputs": [],
   "source": [
    "import sqlite3\n",
    "import pandas as pd\n",
    "\n",
    "conn = sqlite3.connect('vulture.db')\n",
    "\n",
    "df = pd.read_sql_query(\"SELECT function, isVulnerable FROM functions\", conn)\n",
    "df_distinct = pd.read_sql_query(\"SELECT distinct function, isVulnerable FROM functions\", conn)\n",
    "\n",
    "conn.close()"
   ]
  },
  {
   "cell_type": "code",
   "execution_count": 2,
   "id": "69e6862f",
   "metadata": {},
   "outputs": [
    {
     "name": "stdout",
     "output_type": "stream",
     "text": [
      "function        static void ipcomp_free_scratches(void)\\n{\\n\\t...\n",
      "isVulnerable                                                    0\n",
      "Name: 0, dtype: object\n"
     ]
    }
   ],
   "source": [
    "print(df.iloc[0])"
   ]
  },
  {
   "cell_type": "code",
   "execution_count": 3,
   "id": "6640d0a9",
   "metadata": {},
   "outputs": [],
   "source": [
    "from nltk.tokenize import wordpunct_tokenize"
   ]
  },
  {
   "cell_type": "code",
   "execution_count": 4,
   "id": "01954318",
   "metadata": {},
   "outputs": [
    {
     "data": {
      "text/html": [
       "<div>\n",
       "<style scoped>\n",
       "    .dataframe tbody tr th:only-of-type {\n",
       "        vertical-align: middle;\n",
       "    }\n",
       "\n",
       "    .dataframe tbody tr th {\n",
       "        vertical-align: top;\n",
       "    }\n",
       "\n",
       "    .dataframe thead th {\n",
       "        text-align: right;\n",
       "    }\n",
       "</style>\n",
       "<table border=\"1\" class=\"dataframe\">\n",
       "  <thead>\n",
       "    <tr style=\"text-align: right;\">\n",
       "      <th></th>\n",
       "      <th>function</th>\n",
       "      <th>isVulnerable</th>\n",
       "    </tr>\n",
       "  </thead>\n",
       "  <tbody>\n",
       "    <tr>\n",
       "      <th>0</th>\n",
       "      <td>static void ipcomp_free_scratches(void)\\n{\\n\\t...</td>\n",
       "      <td>0</td>\n",
       "    </tr>\n",
       "    <tr>\n",
       "      <th>1</th>\n",
       "      <td>static void ipcomp_free_scratches(void)\\n{\\n\\t...</td>\n",
       "      <td>1</td>\n",
       "    </tr>\n",
       "  </tbody>\n",
       "</table>\n",
       "</div>"
      ],
      "text/plain": [
       "                                            function  isVulnerable\n",
       "0  static void ipcomp_free_scratches(void)\\n{\\n\\t...             0\n",
       "1  static void ipcomp_free_scratches(void)\\n{\\n\\t...             1"
      ]
     },
     "execution_count": 4,
     "metadata": {},
     "output_type": "execute_result"
    }
   ],
   "source": [
    "df.head(n=2)"
   ]
  },
  {
   "cell_type": "code",
   "execution_count": 5,
   "id": "9443a228",
   "metadata": {},
   "outputs": [],
   "source": [
    "df['tokenized_functions'] = df['function'].apply(wordpunct_tokenize)\n",
    "df_distinct['tokenized_functions'] = df_distinct['function'].apply(wordpunct_tokenize)"
   ]
  },
  {
   "cell_type": "code",
   "execution_count": 6,
   "id": "bf865d6e",
   "metadata": {},
   "outputs": [
    {
     "data": {
      "text/html": [
       "<div>\n",
       "<style scoped>\n",
       "    .dataframe tbody tr th:only-of-type {\n",
       "        vertical-align: middle;\n",
       "    }\n",
       "\n",
       "    .dataframe tbody tr th {\n",
       "        vertical-align: top;\n",
       "    }\n",
       "\n",
       "    .dataframe thead th {\n",
       "        text-align: right;\n",
       "    }\n",
       "</style>\n",
       "<table border=\"1\" class=\"dataframe\">\n",
       "  <thead>\n",
       "    <tr style=\"text-align: right;\">\n",
       "      <th></th>\n",
       "      <th>function</th>\n",
       "      <th>isVulnerable</th>\n",
       "      <th>tokenized_functions</th>\n",
       "    </tr>\n",
       "  </thead>\n",
       "  <tbody>\n",
       "    <tr>\n",
       "      <th>0</th>\n",
       "      <td>static void ipcomp_free_scratches(void)\\n{\\n\\t...</td>\n",
       "      <td>0</td>\n",
       "      <td>[static, void, ipcomp_free_scratches, (, void,...</td>\n",
       "    </tr>\n",
       "    <tr>\n",
       "      <th>1</th>\n",
       "      <td>static void ipcomp_free_scratches(void)\\n{\\n\\t...</td>\n",
       "      <td>1</td>\n",
       "      <td>[static, void, ipcomp_free_scratches, (, void,...</td>\n",
       "    </tr>\n",
       "  </tbody>\n",
       "</table>\n",
       "</div>"
      ],
      "text/plain": [
       "                                            function  isVulnerable   \n",
       "0  static void ipcomp_free_scratches(void)\\n{\\n\\t...             0  \\\n",
       "1  static void ipcomp_free_scratches(void)\\n{\\n\\t...             1   \n",
       "\n",
       "                                 tokenized_functions  \n",
       "0  [static, void, ipcomp_free_scratches, (, void,...  \n",
       "1  [static, void, ipcomp_free_scratches, (, void,...  "
      ]
     },
     "execution_count": 6,
     "metadata": {},
     "output_type": "execute_result"
    }
   ],
   "source": [
    "df.head(n=2)"
   ]
  },
  {
   "cell_type": "code",
   "execution_count": 7,
   "id": "02ba0d2c",
   "metadata": {},
   "outputs": [
    {
     "data": {
      "text/html": [
       "<div>\n",
       "<style scoped>\n",
       "    .dataframe tbody tr th:only-of-type {\n",
       "        vertical-align: middle;\n",
       "    }\n",
       "\n",
       "    .dataframe tbody tr th {\n",
       "        vertical-align: top;\n",
       "    }\n",
       "\n",
       "    .dataframe thead th {\n",
       "        text-align: right;\n",
       "    }\n",
       "</style>\n",
       "<table border=\"1\" class=\"dataframe\">\n",
       "  <thead>\n",
       "    <tr style=\"text-align: right;\">\n",
       "      <th></th>\n",
       "      <th>function</th>\n",
       "      <th>isVulnerable</th>\n",
       "      <th>tokenized_functions</th>\n",
       "      <th>size</th>\n",
       "    </tr>\n",
       "  </thead>\n",
       "  <tbody>\n",
       "    <tr>\n",
       "      <th>0</th>\n",
       "      <td>static void ipcomp_free_scratches(void)\\n{\\n\\t...</td>\n",
       "      <td>0</td>\n",
       "      <td>[static, void, ipcomp_free_scratches, (, void,...</td>\n",
       "      <td>53</td>\n",
       "    </tr>\n",
       "    <tr>\n",
       "      <th>1</th>\n",
       "      <td>static void ipcomp_free_scratches(void)\\n{\\n\\t...</td>\n",
       "      <td>1</td>\n",
       "      <td>[static, void, ipcomp_free_scratches, (, void,...</td>\n",
       "      <td>49</td>\n",
       "    </tr>\n",
       "    <tr>\n",
       "      <th>2</th>\n",
       "      <td>static void __exit nbd_cleanup(void)\\n{\\n\\tstr...</td>\n",
       "      <td>0</td>\n",
       "      <td>[static, void, __exit, nbd_cleanup, (, void, )...</td>\n",
       "      <td>110</td>\n",
       "    </tr>\n",
       "    <tr>\n",
       "      <th>3</th>\n",
       "      <td>static void __exit nbd_cleanup(void)\\n{\\n\\tstr...</td>\n",
       "      <td>1</td>\n",
       "      <td>[static, void, __exit, nbd_cleanup, (, void, )...</td>\n",
       "      <td>110</td>\n",
       "    </tr>\n",
       "    <tr>\n",
       "      <th>4</th>\n",
       "      <td>struct mcb_bus *mcb_alloc_bus(struct device *c...</td>\n",
       "      <td>0</td>\n",
       "      <td>[struct, mcb_bus, *, mcb_alloc_bus, (, struct,...</td>\n",
       "      <td>171</td>\n",
       "    </tr>\n",
       "  </tbody>\n",
       "</table>\n",
       "</div>"
      ],
      "text/plain": [
       "                                            function  isVulnerable   \n",
       "0  static void ipcomp_free_scratches(void)\\n{\\n\\t...             0  \\\n",
       "1  static void ipcomp_free_scratches(void)\\n{\\n\\t...             1   \n",
       "2  static void __exit nbd_cleanup(void)\\n{\\n\\tstr...             0   \n",
       "3  static void __exit nbd_cleanup(void)\\n{\\n\\tstr...             1   \n",
       "4  struct mcb_bus *mcb_alloc_bus(struct device *c...             0   \n",
       "\n",
       "                                 tokenized_functions  size  \n",
       "0  [static, void, ipcomp_free_scratches, (, void,...    53  \n",
       "1  [static, void, ipcomp_free_scratches, (, void,...    49  \n",
       "2  [static, void, __exit, nbd_cleanup, (, void, )...   110  \n",
       "3  [static, void, __exit, nbd_cleanup, (, void, )...   110  \n",
       "4  [struct, mcb_bus, *, mcb_alloc_bus, (, struct,...   171  "
      ]
     },
     "execution_count": 7,
     "metadata": {},
     "output_type": "execute_result"
    }
   ],
   "source": [
    "df['size'] = df['tokenized_functions'].apply(len)\n",
    "df.head(n=5)"
   ]
  },
  {
   "cell_type": "code",
   "execution_count": 8,
   "id": "079f84d9",
   "metadata": {},
   "outputs": [
    {
     "data": {
      "text/html": [
       "<div>\n",
       "<style scoped>\n",
       "    .dataframe tbody tr th:only-of-type {\n",
       "        vertical-align: middle;\n",
       "    }\n",
       "\n",
       "    .dataframe tbody tr th {\n",
       "        vertical-align: top;\n",
       "    }\n",
       "\n",
       "    .dataframe thead th {\n",
       "        text-align: right;\n",
       "    }\n",
       "</style>\n",
       "<table border=\"1\" class=\"dataframe\">\n",
       "  <thead>\n",
       "    <tr style=\"text-align: right;\">\n",
       "      <th></th>\n",
       "      <th>function</th>\n",
       "      <th>isVulnerable</th>\n",
       "      <th>tokenized_functions</th>\n",
       "      <th>size</th>\n",
       "    </tr>\n",
       "  </thead>\n",
       "  <tbody>\n",
       "    <tr>\n",
       "      <th>11708</th>\n",
       "      <td>static int ext4_fill_super(struct super_block ...</td>\n",
       "      <td>0</td>\n",
       "      <td>[static, int, ext4_fill_super, (, struct, supe...</td>\n",
       "      <td>6270</td>\n",
       "    </tr>\n",
       "    <tr>\n",
       "      <th>11709</th>\n",
       "      <td>static int ext4_fill_super(struct super_block ...</td>\n",
       "      <td>1</td>\n",
       "      <td>[static, int, ext4_fill_super, (, struct, supe...</td>\n",
       "      <td>6266</td>\n",
       "    </tr>\n",
       "    <tr>\n",
       "      <th>15906</th>\n",
       "      <td>static int ext4_fill_super(struct super_block ...</td>\n",
       "      <td>0</td>\n",
       "      <td>[static, int, ext4_fill_super, (, struct, supe...</td>\n",
       "      <td>6215</td>\n",
       "    </tr>\n",
       "  </tbody>\n",
       "</table>\n",
       "</div>"
      ],
      "text/plain": [
       "                                                function  isVulnerable   \n",
       "11708  static int ext4_fill_super(struct super_block ...             0  \\\n",
       "11709  static int ext4_fill_super(struct super_block ...             1   \n",
       "15906  static int ext4_fill_super(struct super_block ...             0   \n",
       "\n",
       "                                     tokenized_functions  size  \n",
       "11708  [static, int, ext4_fill_super, (, struct, supe...  6270  \n",
       "11709  [static, int, ext4_fill_super, (, struct, supe...  6266  \n",
       "15906  [static, int, ext4_fill_super, (, struct, supe...  6215  "
      ]
     },
     "execution_count": 8,
     "metadata": {},
     "output_type": "execute_result"
    }
   ],
   "source": [
    "df.nlargest(3, ['size'])"
   ]
  },
  {
   "cell_type": "code",
   "execution_count": 9,
   "id": "c13ca3d5",
   "metadata": {},
   "outputs": [
    {
     "data": {
      "text/plain": [
       "269.57263325377886"
      ]
     },
     "execution_count": 9,
     "metadata": {},
     "output_type": "execute_result"
    }
   ],
   "source": [
    "df['size'].mean()"
   ]
  },
  {
   "cell_type": "code",
   "execution_count": 10,
   "id": "c2ffaa8e",
   "metadata": {},
   "outputs": [
    {
     "name": "stdout",
     "output_type": "stream",
     "text": [
      "646\n"
     ]
    }
   ],
   "source": [
    "limit = 1000\n",
    "column = df['size']\n",
    "count = column[column > limit].count()\n",
    "print(count)"
   ]
  },
  {
   "cell_type": "code",
   "execution_count": 11,
   "id": "2264df69",
   "metadata": {},
   "outputs": [
    {
     "name": "stdout",
     "output_type": "stream",
     "text": [
      "25140\n"
     ]
    }
   ],
   "source": [
    "print(column.count())"
   ]
  },
  {
   "cell_type": "code",
   "execution_count": 12,
   "id": "7349845e",
   "metadata": {},
   "outputs": [],
   "source": [
    "df2 = df[[i <= 1000 for i in df['size']]]"
   ]
  },
  {
   "cell_type": "code",
   "execution_count": 13,
   "id": "7031e0c0",
   "metadata": {},
   "outputs": [
    {
     "name": "stdout",
     "output_type": "stream",
     "text": [
      "function               25140\n",
      "isVulnerable           25140\n",
      "tokenized_functions    25140\n",
      "size                   25140\n",
      "dtype: int64\n"
     ]
    }
   ],
   "source": [
    "print(df.count())"
   ]
  },
  {
   "cell_type": "code",
   "execution_count": 14,
   "id": "768cc24d",
   "metadata": {},
   "outputs": [
    {
     "data": {
      "text/html": [
       "<div>\n",
       "<style scoped>\n",
       "    .dataframe tbody tr th:only-of-type {\n",
       "        vertical-align: middle;\n",
       "    }\n",
       "\n",
       "    .dataframe tbody tr th {\n",
       "        vertical-align: top;\n",
       "    }\n",
       "\n",
       "    .dataframe thead th {\n",
       "        text-align: right;\n",
       "    }\n",
       "</style>\n",
       "<table border=\"1\" class=\"dataframe\">\n",
       "  <thead>\n",
       "    <tr style=\"text-align: right;\">\n",
       "      <th></th>\n",
       "      <th>function</th>\n",
       "      <th>isVulnerable</th>\n",
       "      <th>tokenized_functions</th>\n",
       "      <th>size</th>\n",
       "    </tr>\n",
       "  </thead>\n",
       "  <tbody>\n",
       "    <tr>\n",
       "      <th>381</th>\n",
       "      <td>struct net_device {\\n\\tchar\\t\\t\\tname[IFNAMSIZ...</td>\n",
       "      <td>1</td>\n",
       "      <td>[struct, net_device, {, char, name, [, IFNAMSI...</td>\n",
       "      <td>1000</td>\n",
       "    </tr>\n",
       "    <tr>\n",
       "      <th>754</th>\n",
       "      <td>int avc_ca_pmt(struct firedtv *fdtv, char *msg...</td>\n",
       "      <td>0</td>\n",
       "      <td>[int, avc_ca_pmt, (, struct, firedtv, *, fdtv,...</td>\n",
       "      <td>1000</td>\n",
       "    </tr>\n",
       "    <tr>\n",
       "      <th>2988</th>\n",
       "      <td>int avc_ca_pmt(struct firedtv *fdtv, char *msg...</td>\n",
       "      <td>0</td>\n",
       "      <td>[int, avc_ca_pmt, (, struct, firedtv, *, fdtv,...</td>\n",
       "      <td>1000</td>\n",
       "    </tr>\n",
       "  </tbody>\n",
       "</table>\n",
       "</div>"
      ],
      "text/plain": [
       "                                               function  isVulnerable   \n",
       "381   struct net_device {\\n\\tchar\\t\\t\\tname[IFNAMSIZ...             1  \\\n",
       "754   int avc_ca_pmt(struct firedtv *fdtv, char *msg...             0   \n",
       "2988  int avc_ca_pmt(struct firedtv *fdtv, char *msg...             0   \n",
       "\n",
       "                                    tokenized_functions  size  \n",
       "381   [struct, net_device, {, char, name, [, IFNAMSI...  1000  \n",
       "754   [int, avc_ca_pmt, (, struct, firedtv, *, fdtv,...  1000  \n",
       "2988  [int, avc_ca_pmt, (, struct, firedtv, *, fdtv,...  1000  "
      ]
     },
     "execution_count": 14,
     "metadata": {},
     "output_type": "execute_result"
    }
   ],
   "source": [
    "df2.nlargest(3, ['size'])"
   ]
  },
  {
   "cell_type": "code",
   "execution_count": 15,
   "id": "4fb0d882",
   "metadata": {},
   "outputs": [],
   "source": [
    "df2.to_csv('preprocessed_data.csv')"
   ]
  },
  {
   "cell_type": "code",
   "execution_count": 16,
   "id": "add45b58",
   "metadata": {},
   "outputs": [
    {
     "name": "stdout",
     "output_type": "stream",
     "text": [
      "function               24494\n",
      "isVulnerable           24494\n",
      "tokenized_functions    24494\n",
      "size                   24494\n",
      "dtype: int64\n"
     ]
    }
   ],
   "source": [
    "print(df2.count())"
   ]
  },
  {
   "cell_type": "code",
   "execution_count": 17,
   "id": "8ea8bc33",
   "metadata": {},
   "outputs": [],
   "source": [
    "df_distinct['size'] = df_distinct['tokenized_functions'].apply(len)\n",
    "df_distinct = df_distinct[[i <= 1000 for i in df_distinct['size']]]"
   ]
  },
  {
   "cell_type": "code",
   "execution_count": 18,
   "id": "9149dc4b",
   "metadata": {},
   "outputs": [
    {
     "data": {
      "text/html": [
       "<div>\n",
       "<style scoped>\n",
       "    .dataframe tbody tr th:only-of-type {\n",
       "        vertical-align: middle;\n",
       "    }\n",
       "\n",
       "    .dataframe tbody tr th {\n",
       "        vertical-align: top;\n",
       "    }\n",
       "\n",
       "    .dataframe thead th {\n",
       "        text-align: right;\n",
       "    }\n",
       "</style>\n",
       "<table border=\"1\" class=\"dataframe\">\n",
       "  <thead>\n",
       "    <tr style=\"text-align: right;\">\n",
       "      <th></th>\n",
       "      <th>function</th>\n",
       "      <th>isVulnerable</th>\n",
       "      <th>tokenized_functions</th>\n",
       "      <th>size</th>\n",
       "    </tr>\n",
       "  </thead>\n",
       "  <tbody>\n",
       "    <tr>\n",
       "      <th>0</th>\n",
       "      <td>static void ipcomp_free_scratches(void)\\n{\\n\\t...</td>\n",
       "      <td>0</td>\n",
       "      <td>[static, void, ipcomp_free_scratches, (, void,...</td>\n",
       "      <td>53</td>\n",
       "    </tr>\n",
       "    <tr>\n",
       "      <th>1</th>\n",
       "      <td>static void ipcomp_free_scratches(void)\\n{\\n\\t...</td>\n",
       "      <td>1</td>\n",
       "      <td>[static, void, ipcomp_free_scratches, (, void,...</td>\n",
       "      <td>49</td>\n",
       "    </tr>\n",
       "    <tr>\n",
       "      <th>2</th>\n",
       "      <td>static void __exit nbd_cleanup(void)\\n{\\n\\tstr...</td>\n",
       "      <td>0</td>\n",
       "      <td>[static, void, __exit, nbd_cleanup, (, void, )...</td>\n",
       "      <td>110</td>\n",
       "    </tr>\n",
       "    <tr>\n",
       "      <th>3</th>\n",
       "      <td>static void __exit nbd_cleanup(void)\\n{\\n\\tstr...</td>\n",
       "      <td>1</td>\n",
       "      <td>[static, void, __exit, nbd_cleanup, (, void, )...</td>\n",
       "      <td>110</td>\n",
       "    </tr>\n",
       "    <tr>\n",
       "      <th>4</th>\n",
       "      <td>struct mcb_bus *mcb_alloc_bus(struct device *c...</td>\n",
       "      <td>0</td>\n",
       "      <td>[struct, mcb_bus, *, mcb_alloc_bus, (, struct,...</td>\n",
       "      <td>171</td>\n",
       "    </tr>\n",
       "  </tbody>\n",
       "</table>\n",
       "</div>"
      ],
      "text/plain": [
       "                                            function  isVulnerable   \n",
       "0  static void ipcomp_free_scratches(void)\\n{\\n\\t...             0  \\\n",
       "1  static void ipcomp_free_scratches(void)\\n{\\n\\t...             1   \n",
       "2  static void __exit nbd_cleanup(void)\\n{\\n\\tstr...             0   \n",
       "3  static void __exit nbd_cleanup(void)\\n{\\n\\tstr...             1   \n",
       "4  struct mcb_bus *mcb_alloc_bus(struct device *c...             0   \n",
       "\n",
       "                                 tokenized_functions  size  \n",
       "0  [static, void, ipcomp_free_scratches, (, void,...    53  \n",
       "1  [static, void, ipcomp_free_scratches, (, void,...    49  \n",
       "2  [static, void, __exit, nbd_cleanup, (, void, )...   110  \n",
       "3  [static, void, __exit, nbd_cleanup, (, void, )...   110  \n",
       "4  [struct, mcb_bus, *, mcb_alloc_bus, (, struct,...   171  "
      ]
     },
     "execution_count": 18,
     "metadata": {},
     "output_type": "execute_result"
    }
   ],
   "source": [
    "df_distinct.to_csv('distinct_data.csv')\n",
    "df_distinct.head(n=5)"
   ]
  },
  {
   "cell_type": "code",
   "execution_count": 19,
   "id": "bc93c7a1",
   "metadata": {},
   "outputs": [
    {
     "name": "stdout",
     "output_type": "stream",
     "text": [
      "function               8785\n",
      "isVulnerable           8785\n",
      "tokenized_functions    8785\n",
      "size                   8785\n",
      "dtype: int64\n"
     ]
    }
   ],
   "source": [
    "print(df_distinct.count())"
   ]
  },
  {
   "cell_type": "code",
   "execution_count": null,
   "id": "884393cc",
   "metadata": {},
   "outputs": [],
   "source": []
  }
 ],
 "metadata": {
  "kernelspec": {
   "display_name": "Python 3 (ipykernel)",
   "language": "python",
   "name": "python3"
  },
  "language_info": {
   "codemirror_mode": {
    "name": "ipython",
    "version": 3
   },
   "file_extension": ".py",
   "mimetype": "text/x-python",
   "name": "python",
   "nbconvert_exporter": "python",
   "pygments_lexer": "ipython3",
   "version": "3.8.10"
  }
 },
 "nbformat": 4,
 "nbformat_minor": 5
}
