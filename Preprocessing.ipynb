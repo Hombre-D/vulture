{
 "cells": [
  {
   "cell_type": "markdown",
   "id": "5ec60b4a",
   "metadata": {},
   "source": [
    "Setting up the dataframe and testing it out"
   ]
  },
  {
   "cell_type": "code",
   "execution_count": 69,
   "id": "deba499e",
   "metadata": {},
   "outputs": [],
   "source": [
    "import sqlite3\n",
    "import pandas as pd\n",
    "\n",
    "conn = sqlite3.connect('vulture.db')\n",
    "\n",
    "df = pd.read_sql_query(\"SELECT function, isVulnerable FROM functions\", conn)\n",
    "df_distinct = pd.read_sql_query(\"SELECT distinct function, isVulnerable FROM functions\", conn)\n",
    "\n",
    "conn.close()"
   ]
  },
  {
   "cell_type": "code",
   "execution_count": 70,
   "id": "69e6862f",
   "metadata": {},
   "outputs": [
    {
     "name": "stdout",
     "output_type": "stream",
     "text": [
      "function        static void ipcomp_free_scratches(void)\\n{\\n\\t...\n",
      "isVulnerable                                                    0\n",
      "Name: 0, dtype: object\n"
     ]
    }
   ],
   "source": [
    "print(df.iloc[0])"
   ]
  },
  {
   "cell_type": "code",
   "execution_count": 71,
   "id": "6640d0a9",
   "metadata": {},
   "outputs": [],
   "source": [
    "from nltk.tokenize import wordpunct_tokenize"
   ]
  },
  {
   "cell_type": "code",
   "execution_count": 72,
   "id": "01954318",
   "metadata": {},
   "outputs": [
    {
     "data": {
      "text/html": [
       "<div>\n",
       "<style scoped>\n",
       "    .dataframe tbody tr th:only-of-type {\n",
       "        vertical-align: middle;\n",
       "    }\n",
       "\n",
       "    .dataframe tbody tr th {\n",
       "        vertical-align: top;\n",
       "    }\n",
       "\n",
       "    .dataframe thead th {\n",
       "        text-align: right;\n",
       "    }\n",
       "</style>\n",
       "<table border=\"1\" class=\"dataframe\">\n",
       "  <thead>\n",
       "    <tr style=\"text-align: right;\">\n",
       "      <th></th>\n",
       "      <th>function</th>\n",
       "      <th>isVulnerable</th>\n",
       "    </tr>\n",
       "  </thead>\n",
       "  <tbody>\n",
       "    <tr>\n",
       "      <th>0</th>\n",
       "      <td>static void ipcomp_free_scratches(void)\\n{\\n\\t...</td>\n",
       "      <td>0</td>\n",
       "    </tr>\n",
       "    <tr>\n",
       "      <th>1</th>\n",
       "      <td>static void ipcomp_free_scratches(void)\\n{\\n\\t...</td>\n",
       "      <td>1</td>\n",
       "    </tr>\n",
       "  </tbody>\n",
       "</table>\n",
       "</div>"
      ],
      "text/plain": [
       "                                            function  isVulnerable\n",
       "0  static void ipcomp_free_scratches(void)\\n{\\n\\t...             0\n",
       "1  static void ipcomp_free_scratches(void)\\n{\\n\\t...             1"
      ]
     },
     "execution_count": 72,
     "metadata": {},
     "output_type": "execute_result"
    }
   ],
   "source": [
    "df.head(n=2)"
   ]
  },
  {
   "cell_type": "code",
   "execution_count": 73,
   "id": "9443a228",
   "metadata": {},
   "outputs": [],
   "source": [
    "df['tokenized_functions'] = df['function'].apply(wordpunct_tokenize)\n",
    "df_distinct['tokenized_functions'] = df_distinct['function'].apply(wordpunct_tokenize)"
   ]
  },
  {
   "cell_type": "code",
   "execution_count": 74,
   "id": "bf865d6e",
   "metadata": {},
   "outputs": [
    {
     "data": {
      "text/html": [
       "<div>\n",
       "<style scoped>\n",
       "    .dataframe tbody tr th:only-of-type {\n",
       "        vertical-align: middle;\n",
       "    }\n",
       "\n",
       "    .dataframe tbody tr th {\n",
       "        vertical-align: top;\n",
       "    }\n",
       "\n",
       "    .dataframe thead th {\n",
       "        text-align: right;\n",
       "    }\n",
       "</style>\n",
       "<table border=\"1\" class=\"dataframe\">\n",
       "  <thead>\n",
       "    <tr style=\"text-align: right;\">\n",
       "      <th></th>\n",
       "      <th>function</th>\n",
       "      <th>isVulnerable</th>\n",
       "      <th>tokenized_functions</th>\n",
       "    </tr>\n",
       "  </thead>\n",
       "  <tbody>\n",
       "    <tr>\n",
       "      <th>0</th>\n",
       "      <td>static void ipcomp_free_scratches(void)\\n{\\n\\t...</td>\n",
       "      <td>0</td>\n",
       "      <td>[static, void, ipcomp_free_scratches, (, void,...</td>\n",
       "    </tr>\n",
       "    <tr>\n",
       "      <th>1</th>\n",
       "      <td>static void ipcomp_free_scratches(void)\\n{\\n\\t...</td>\n",
       "      <td>1</td>\n",
       "      <td>[static, void, ipcomp_free_scratches, (, void,...</td>\n",
       "    </tr>\n",
       "  </tbody>\n",
       "</table>\n",
       "</div>"
      ],
      "text/plain": [
       "                                            function  isVulnerable   \n",
       "0  static void ipcomp_free_scratches(void)\\n{\\n\\t...             0  \\\n",
       "1  static void ipcomp_free_scratches(void)\\n{\\n\\t...             1   \n",
       "\n",
       "                                 tokenized_functions  \n",
       "0  [static, void, ipcomp_free_scratches, (, void,...  \n",
       "1  [static, void, ipcomp_free_scratches, (, void,...  "
      ]
     },
     "execution_count": 74,
     "metadata": {},
     "output_type": "execute_result"
    }
   ],
   "source": [
    "df.head(n=2)"
   ]
  },
  {
   "cell_type": "code",
   "execution_count": 75,
   "id": "02ba0d2c",
   "metadata": {},
   "outputs": [
    {
     "data": {
      "text/html": [
       "<div>\n",
       "<style scoped>\n",
       "    .dataframe tbody tr th:only-of-type {\n",
       "        vertical-align: middle;\n",
       "    }\n",
       "\n",
       "    .dataframe tbody tr th {\n",
       "        vertical-align: top;\n",
       "    }\n",
       "\n",
       "    .dataframe thead th {\n",
       "        text-align: right;\n",
       "    }\n",
       "</style>\n",
       "<table border=\"1\" class=\"dataframe\">\n",
       "  <thead>\n",
       "    <tr style=\"text-align: right;\">\n",
       "      <th></th>\n",
       "      <th>function</th>\n",
       "      <th>isVulnerable</th>\n",
       "      <th>tokenized_functions</th>\n",
       "      <th>size</th>\n",
       "    </tr>\n",
       "  </thead>\n",
       "  <tbody>\n",
       "    <tr>\n",
       "      <th>0</th>\n",
       "      <td>static void ipcomp_free_scratches(void)\\n{\\n\\t...</td>\n",
       "      <td>0</td>\n",
       "      <td>[static, void, ipcomp_free_scratches, (, void,...</td>\n",
       "      <td>53</td>\n",
       "    </tr>\n",
       "    <tr>\n",
       "      <th>1</th>\n",
       "      <td>static void ipcomp_free_scratches(void)\\n{\\n\\t...</td>\n",
       "      <td>1</td>\n",
       "      <td>[static, void, ipcomp_free_scratches, (, void,...</td>\n",
       "      <td>49</td>\n",
       "    </tr>\n",
       "    <tr>\n",
       "      <th>2</th>\n",
       "      <td>static void __exit nbd_cleanup(void)\\n{\\n\\tstr...</td>\n",
       "      <td>0</td>\n",
       "      <td>[static, void, __exit, nbd_cleanup, (, void, )...</td>\n",
       "      <td>110</td>\n",
       "    </tr>\n",
       "    <tr>\n",
       "      <th>3</th>\n",
       "      <td>static void __exit nbd_cleanup(void)\\n{\\n\\tstr...</td>\n",
       "      <td>1</td>\n",
       "      <td>[static, void, __exit, nbd_cleanup, (, void, )...</td>\n",
       "      <td>110</td>\n",
       "    </tr>\n",
       "    <tr>\n",
       "      <th>4</th>\n",
       "      <td>static void __exit nbd_cleanup(void)\\n{\\n\\tstr...</td>\n",
       "      <td>0</td>\n",
       "      <td>[static, void, __exit, nbd_cleanup, (, void, )...</td>\n",
       "      <td>110</td>\n",
       "    </tr>\n",
       "  </tbody>\n",
       "</table>\n",
       "</div>"
      ],
      "text/plain": [
       "                                            function  isVulnerable   \n",
       "0  static void ipcomp_free_scratches(void)\\n{\\n\\t...             0  \\\n",
       "1  static void ipcomp_free_scratches(void)\\n{\\n\\t...             1   \n",
       "2  static void __exit nbd_cleanup(void)\\n{\\n\\tstr...             0   \n",
       "3  static void __exit nbd_cleanup(void)\\n{\\n\\tstr...             1   \n",
       "4  static void __exit nbd_cleanup(void)\\n{\\n\\tstr...             0   \n",
       "\n",
       "                                 tokenized_functions  size  \n",
       "0  [static, void, ipcomp_free_scratches, (, void,...    53  \n",
       "1  [static, void, ipcomp_free_scratches, (, void,...    49  \n",
       "2  [static, void, __exit, nbd_cleanup, (, void, )...   110  \n",
       "3  [static, void, __exit, nbd_cleanup, (, void, )...   110  \n",
       "4  [static, void, __exit, nbd_cleanup, (, void, )...   110  "
      ]
     },
     "execution_count": 75,
     "metadata": {},
     "output_type": "execute_result"
    }
   ],
   "source": [
    "df['size'] = df['tokenized_functions'].apply(len)\n",
    "df.head(n=5)"
   ]
  },
  {
   "cell_type": "code",
   "execution_count": 76,
   "id": "079f84d9",
   "metadata": {},
   "outputs": [
    {
     "data": {
      "text/html": [
       "<div>\n",
       "<style scoped>\n",
       "    .dataframe tbody tr th:only-of-type {\n",
       "        vertical-align: middle;\n",
       "    }\n",
       "\n",
       "    .dataframe tbody tr th {\n",
       "        vertical-align: top;\n",
       "    }\n",
       "\n",
       "    .dataframe thead th {\n",
       "        text-align: right;\n",
       "    }\n",
       "</style>\n",
       "<table border=\"1\" class=\"dataframe\">\n",
       "  <thead>\n",
       "    <tr style=\"text-align: right;\">\n",
       "      <th></th>\n",
       "      <th>function</th>\n",
       "      <th>isVulnerable</th>\n",
       "      <th>tokenized_functions</th>\n",
       "      <th>size</th>\n",
       "    </tr>\n",
       "  </thead>\n",
       "  <tbody>\n",
       "    <tr>\n",
       "      <th>19876</th>\n",
       "      <td>static int ext4_fill_super(struct super_block ...</td>\n",
       "      <td>0</td>\n",
       "      <td>[static, int, ext4_fill_super, (, struct, supe...</td>\n",
       "      <td>6270</td>\n",
       "    </tr>\n",
       "    <tr>\n",
       "      <th>19877</th>\n",
       "      <td>static int ext4_fill_super(struct super_block ...</td>\n",
       "      <td>1</td>\n",
       "      <td>[static, int, ext4_fill_super, (, struct, supe...</td>\n",
       "      <td>6266</td>\n",
       "    </tr>\n",
       "    <tr>\n",
       "      <th>27134</th>\n",
       "      <td>static int ext4_fill_super(struct super_block ...</td>\n",
       "      <td>0</td>\n",
       "      <td>[static, int, ext4_fill_super, (, struct, supe...</td>\n",
       "      <td>6215</td>\n",
       "    </tr>\n",
       "  </tbody>\n",
       "</table>\n",
       "</div>"
      ],
      "text/plain": [
       "                                                function  isVulnerable   \n",
       "19876  static int ext4_fill_super(struct super_block ...             0  \\\n",
       "19877  static int ext4_fill_super(struct super_block ...             1   \n",
       "27134  static int ext4_fill_super(struct super_block ...             0   \n",
       "\n",
       "                                     tokenized_functions  size  \n",
       "19876  [static, int, ext4_fill_super, (, struct, supe...  6270  \n",
       "19877  [static, int, ext4_fill_super, (, struct, supe...  6266  \n",
       "27134  [static, int, ext4_fill_super, (, struct, supe...  6215  "
      ]
     },
     "execution_count": 76,
     "metadata": {},
     "output_type": "execute_result"
    }
   ],
   "source": [
    "df.nlargest(3, ['size'])"
   ]
  },
  {
   "cell_type": "code",
   "execution_count": 77,
   "id": "c13ca3d5",
   "metadata": {},
   "outputs": [
    {
     "data": {
      "text/plain": [
       "299.56643630499883"
      ]
     },
     "execution_count": 77,
     "metadata": {},
     "output_type": "execute_result"
    }
   ],
   "source": [
    "df['size'].mean()"
   ]
  },
  {
   "cell_type": "code",
   "execution_count": 78,
   "id": "c2ffaa8e",
   "metadata": {},
   "outputs": [
    {
     "name": "stdout",
     "output_type": "stream",
     "text": [
      "1276\n"
     ]
    }
   ],
   "source": [
    "limit = 1000\n",
    "column = df['size']\n",
    "count = column[column > limit].count()\n",
    "print(count)"
   ]
  },
  {
   "cell_type": "code",
   "execution_count": 79,
   "id": "2264df69",
   "metadata": {},
   "outputs": [
    {
     "name": "stdout",
     "output_type": "stream",
     "text": [
      "43410\n"
     ]
    }
   ],
   "source": [
    "print(column.count())"
   ]
  },
  {
   "cell_type": "code",
   "execution_count": 80,
   "id": "7349845e",
   "metadata": {},
   "outputs": [],
   "source": [
    "df2 = df[[i <= 1000 for i in df['size']]]"
   ]
  },
  {
   "cell_type": "code",
   "execution_count": 81,
   "id": "7031e0c0",
   "metadata": {},
   "outputs": [
    {
     "name": "stdout",
     "output_type": "stream",
     "text": [
      "function               43410\n",
      "isVulnerable           43410\n",
      "tokenized_functions    43410\n",
      "size                   43410\n",
      "dtype: int64\n"
     ]
    }
   ],
   "source": [
    "print(df.count())"
   ]
  },
  {
   "cell_type": "code",
   "execution_count": 82,
   "id": "768cc24d",
   "metadata": {},
   "outputs": [
    {
     "data": {
      "text/html": [
       "<div>\n",
       "<style scoped>\n",
       "    .dataframe tbody tr th:only-of-type {\n",
       "        vertical-align: middle;\n",
       "    }\n",
       "\n",
       "    .dataframe tbody tr th {\n",
       "        vertical-align: top;\n",
       "    }\n",
       "\n",
       "    .dataframe thead th {\n",
       "        text-align: right;\n",
       "    }\n",
       "</style>\n",
       "<table border=\"1\" class=\"dataframe\">\n",
       "  <thead>\n",
       "    <tr style=\"text-align: right;\">\n",
       "      <th></th>\n",
       "      <th>function</th>\n",
       "      <th>isVulnerable</th>\n",
       "      <th>tokenized_functions</th>\n",
       "      <th>size</th>\n",
       "    </tr>\n",
       "  </thead>\n",
       "  <tbody>\n",
       "    <tr>\n",
       "      <th>685</th>\n",
       "      <td>struct net_device {\\n\\tchar\\t\\t\\tname[IFNAMSIZ...</td>\n",
       "      <td>1</td>\n",
       "      <td>[struct, net_device, {, char, name, [, IFNAMSI...</td>\n",
       "      <td>1000</td>\n",
       "    </tr>\n",
       "    <tr>\n",
       "      <th>1290</th>\n",
       "      <td>int avc_ca_pmt(struct firedtv *fdtv, char *msg...</td>\n",
       "      <td>0</td>\n",
       "      <td>[int, avc_ca_pmt, (, struct, firedtv, *, fdtv,...</td>\n",
       "      <td>1000</td>\n",
       "    </tr>\n",
       "    <tr>\n",
       "      <th>1292</th>\n",
       "      <td>int avc_ca_pmt(struct firedtv *fdtv, char *msg...</td>\n",
       "      <td>0</td>\n",
       "      <td>[int, avc_ca_pmt, (, struct, firedtv, *, fdtv,...</td>\n",
       "      <td>1000</td>\n",
       "    </tr>\n",
       "  </tbody>\n",
       "</table>\n",
       "</div>"
      ],
      "text/plain": [
       "                                               function  isVulnerable   \n",
       "685   struct net_device {\\n\\tchar\\t\\t\\tname[IFNAMSIZ...             1  \\\n",
       "1290  int avc_ca_pmt(struct firedtv *fdtv, char *msg...             0   \n",
       "1292  int avc_ca_pmt(struct firedtv *fdtv, char *msg...             0   \n",
       "\n",
       "                                    tokenized_functions  size  \n",
       "685   [struct, net_device, {, char, name, [, IFNAMSI...  1000  \n",
       "1290  [int, avc_ca_pmt, (, struct, firedtv, *, fdtv,...  1000  \n",
       "1292  [int, avc_ca_pmt, (, struct, firedtv, *, fdtv,...  1000  "
      ]
     },
     "execution_count": 82,
     "metadata": {},
     "output_type": "execute_result"
    }
   ],
   "source": [
    "df2.nlargest(3, ['size'])"
   ]
  },
  {
   "cell_type": "code",
   "execution_count": 83,
   "id": "4fb0d882",
   "metadata": {},
   "outputs": [],
   "source": [
    "df2.to_csv('preprocessed_data.csv')"
   ]
  },
  {
   "cell_type": "code",
   "execution_count": 84,
   "id": "add45b58",
   "metadata": {},
   "outputs": [
    {
     "name": "stdout",
     "output_type": "stream",
     "text": [
      "function               42134\n",
      "isVulnerable           42134\n",
      "tokenized_functions    42134\n",
      "size                   42134\n",
      "dtype: int64\n"
     ]
    }
   ],
   "source": [
    "print(df2.count())"
   ]
  },
  {
   "cell_type": "code",
   "execution_count": 91,
   "id": "8ea8bc33",
   "metadata": {},
   "outputs": [],
   "source": [
    "df_distinct['size'] = df_distinct['tokenized_functions'].apply(len)\n",
    "df_distinct = df_distinct[[i <= 1000 for i in df_distinct['size']]]"
   ]
  },
  {
   "cell_type": "code",
   "execution_count": 92,
   "id": "9149dc4b",
   "metadata": {},
   "outputs": [
    {
     "data": {
      "text/html": [
       "<div>\n",
       "<style scoped>\n",
       "    .dataframe tbody tr th:only-of-type {\n",
       "        vertical-align: middle;\n",
       "    }\n",
       "\n",
       "    .dataframe tbody tr th {\n",
       "        vertical-align: top;\n",
       "    }\n",
       "\n",
       "    .dataframe thead th {\n",
       "        text-align: right;\n",
       "    }\n",
       "</style>\n",
       "<table border=\"1\" class=\"dataframe\">\n",
       "  <thead>\n",
       "    <tr style=\"text-align: right;\">\n",
       "      <th></th>\n",
       "      <th>function</th>\n",
       "      <th>isVulnerable</th>\n",
       "      <th>tokenized_functions</th>\n",
       "      <th>size</th>\n",
       "    </tr>\n",
       "  </thead>\n",
       "  <tbody>\n",
       "    <tr>\n",
       "      <th>0</th>\n",
       "      <td>static void ipcomp_free_scratches(void)\\n{\\n\\t...</td>\n",
       "      <td>0</td>\n",
       "      <td>[static, void, ipcomp_free_scratches, (, void,...</td>\n",
       "      <td>53</td>\n",
       "    </tr>\n",
       "    <tr>\n",
       "      <th>1</th>\n",
       "      <td>static void ipcomp_free_scratches(void)\\n{\\n\\t...</td>\n",
       "      <td>1</td>\n",
       "      <td>[static, void, ipcomp_free_scratches, (, void,...</td>\n",
       "      <td>49</td>\n",
       "    </tr>\n",
       "    <tr>\n",
       "      <th>2</th>\n",
       "      <td>static void __exit nbd_cleanup(void)\\n{\\n\\tstr...</td>\n",
       "      <td>0</td>\n",
       "      <td>[static, void, __exit, nbd_cleanup, (, void, )...</td>\n",
       "      <td>110</td>\n",
       "    </tr>\n",
       "    <tr>\n",
       "      <th>3</th>\n",
       "      <td>static void __exit nbd_cleanup(void)\\n{\\n\\tstr...</td>\n",
       "      <td>1</td>\n",
       "      <td>[static, void, __exit, nbd_cleanup, (, void, )...</td>\n",
       "      <td>110</td>\n",
       "    </tr>\n",
       "    <tr>\n",
       "      <th>4</th>\n",
       "      <td>struct mcb_bus *mcb_alloc_bus(struct device *c...</td>\n",
       "      <td>0</td>\n",
       "      <td>[struct, mcb_bus, *, mcb_alloc_bus, (, struct,...</td>\n",
       "      <td>171</td>\n",
       "    </tr>\n",
       "  </tbody>\n",
       "</table>\n",
       "</div>"
      ],
      "text/plain": [
       "                                            function  isVulnerable   \n",
       "0  static void ipcomp_free_scratches(void)\\n{\\n\\t...             0  \\\n",
       "1  static void ipcomp_free_scratches(void)\\n{\\n\\t...             1   \n",
       "2  static void __exit nbd_cleanup(void)\\n{\\n\\tstr...             0   \n",
       "3  static void __exit nbd_cleanup(void)\\n{\\n\\tstr...             1   \n",
       "4  struct mcb_bus *mcb_alloc_bus(struct device *c...             0   \n",
       "\n",
       "                                 tokenized_functions  size  \n",
       "0  [static, void, ipcomp_free_scratches, (, void,...    53  \n",
       "1  [static, void, ipcomp_free_scratches, (, void,...    49  \n",
       "2  [static, void, __exit, nbd_cleanup, (, void, )...   110  \n",
       "3  [static, void, __exit, nbd_cleanup, (, void, )...   110  \n",
       "4  [struct, mcb_bus, *, mcb_alloc_bus, (, struct,...   171  "
      ]
     },
     "execution_count": 92,
     "metadata": {},
     "output_type": "execute_result"
    }
   ],
   "source": [
    "df_distinct.to_csv('distinct_data.csv')\n",
    "df_distinct.head(n=5)"
   ]
  },
  {
   "cell_type": "code",
   "execution_count": 93,
   "id": "bc93c7a1",
   "metadata": {},
   "outputs": [
    {
     "name": "stdout",
     "output_type": "stream",
     "text": [
      "function               8791\n",
      "isVulnerable           8791\n",
      "tokenized_functions    8791\n",
      "size                   8791\n",
      "dtype: int64\n"
     ]
    }
   ],
   "source": [
    "print(df_distinct.count())"
   ]
  },
  {
   "cell_type": "code",
   "execution_count": null,
   "id": "884393cc",
   "metadata": {},
   "outputs": [],
   "source": []
  }
 ],
 "metadata": {
  "kernelspec": {
   "display_name": "Python 3 (ipykernel)",
   "language": "python",
   "name": "python3"
  },
  "language_info": {
   "codemirror_mode": {
    "name": "ipython",
    "version": 3
   },
   "file_extension": ".py",
   "mimetype": "text/x-python",
   "name": "python",
   "nbconvert_exporter": "python",
   "pygments_lexer": "ipython3",
   "version": "3.8.10"
  }
 },
 "nbformat": 4,
 "nbformat_minor": 5
}
