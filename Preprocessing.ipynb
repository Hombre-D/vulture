{
 "cells": [
  {
   "cell_type": "markdown",
   "id": "5ec60b4a",
   "metadata": {},
   "source": [
    "Setting up the dataframe and testing it out"
   ]
  },
  {
   "cell_type": "code",
   "execution_count": 1,
   "id": "deba499e",
   "metadata": {},
   "outputs": [],
   "source": [
    "import sqlite3\n",
    "import pandas as pd\n",
    "\n",
    "conn = sqlite3.connect('vulture.db')\n",
    "\n",
    "df = pd.read_sql_query(\"SELECT function, isVulnerable FROM functions\", conn)\n",
    "df_distinct = pd.read_sql_query(\"SELECT distinct function, isVulnerable FROM functions\", conn)\n",
    "\n",
    "conn.close()"
   ]
  },
  {
   "cell_type": "code",
   "execution_count": 2,
   "id": "69e6862f",
   "metadata": {},
   "outputs": [
    {
     "name": "stdout",
     "output_type": "stream",
     "text": [
      "function        static void ipcomp_free_scratches(void)\\n{\\n\\t...\n",
      "isVulnerable                                                    0\n",
      "Name: 0, dtype: object\n"
     ]
    }
   ],
   "source": [
    "print(df.iloc[0])"
   ]
  },
  {
   "cell_type": "code",
   "execution_count": 3,
   "id": "6640d0a9",
   "metadata": {},
   "outputs": [],
   "source": [
    "from nltk.tokenize import wordpunct_tokenize"
   ]
  },
  {
   "cell_type": "code",
   "execution_count": 4,
   "id": "01954318",
   "metadata": {},
   "outputs": [
    {
     "data": {
      "text/html": [
       "<div>\n",
       "<style scoped>\n",
       "    .dataframe tbody tr th:only-of-type {\n",
       "        vertical-align: middle;\n",
       "    }\n",
       "\n",
       "    .dataframe tbody tr th {\n",
       "        vertical-align: top;\n",
       "    }\n",
       "\n",
       "    .dataframe thead th {\n",
       "        text-align: right;\n",
       "    }\n",
       "</style>\n",
       "<table border=\"1\" class=\"dataframe\">\n",
       "  <thead>\n",
       "    <tr style=\"text-align: right;\">\n",
       "      <th></th>\n",
       "      <th>function</th>\n",
       "      <th>isVulnerable</th>\n",
       "    </tr>\n",
       "  </thead>\n",
       "  <tbody>\n",
       "    <tr>\n",
       "      <th>0</th>\n",
       "      <td>static void ipcomp_free_scratches(void)\\n{\\n\\t...</td>\n",
       "      <td>0</td>\n",
       "    </tr>\n",
       "    <tr>\n",
       "      <th>1</th>\n",
       "      <td>static void ipcomp_free_scratches(void)\\n{\\n\\t...</td>\n",
       "      <td>1</td>\n",
       "    </tr>\n",
       "  </tbody>\n",
       "</table>\n",
       "</div>"
      ],
      "text/plain": [
       "                                            function  isVulnerable\n",
       "0  static void ipcomp_free_scratches(void)\\n{\\n\\t...             0\n",
       "1  static void ipcomp_free_scratches(void)\\n{\\n\\t...             1"
      ]
     },
     "execution_count": 4,
     "metadata": {},
     "output_type": "execute_result"
    }
   ],
   "source": [
    "df.head(n=2)"
   ]
  },
  {
   "cell_type": "code",
   "execution_count": 7,
   "id": "9443a228",
   "metadata": {},
   "outputs": [],
   "source": [
    "df['tokenized_functions'] = df['function'].apply(wordpunct_tokenize)\n",
    "df_distinct['tokenized_functions'] = df_distinct['function'].apply(wordpunct_tokenize)"
   ]
  },
  {
   "cell_type": "code",
   "execution_count": 8,
   "id": "bf865d6e",
   "metadata": {},
   "outputs": [
    {
     "data": {
      "text/html": [
       "<div>\n",
       "<style scoped>\n",
       "    .dataframe tbody tr th:only-of-type {\n",
       "        vertical-align: middle;\n",
       "    }\n",
       "\n",
       "    .dataframe tbody tr th {\n",
       "        vertical-align: top;\n",
       "    }\n",
       "\n",
       "    .dataframe thead th {\n",
       "        text-align: right;\n",
       "    }\n",
       "</style>\n",
       "<table border=\"1\" class=\"dataframe\">\n",
       "  <thead>\n",
       "    <tr style=\"text-align: right;\">\n",
       "      <th></th>\n",
       "      <th>function</th>\n",
       "      <th>isVulnerable</th>\n",
       "      <th>tokenized_functions</th>\n",
       "    </tr>\n",
       "  </thead>\n",
       "  <tbody>\n",
       "    <tr>\n",
       "      <th>0</th>\n",
       "      <td>static void ipcomp_free_scratches(void)\\n{\\n\\t...</td>\n",
       "      <td>0</td>\n",
       "      <td>[static, void, ipcomp_free_scratches, (, void,...</td>\n",
       "    </tr>\n",
       "    <tr>\n",
       "      <th>1</th>\n",
       "      <td>static void ipcomp_free_scratches(void)\\n{\\n\\t...</td>\n",
       "      <td>1</td>\n",
       "      <td>[static, void, ipcomp_free_scratches, (, void,...</td>\n",
       "    </tr>\n",
       "  </tbody>\n",
       "</table>\n",
       "</div>"
      ],
      "text/plain": [
       "                                            function  isVulnerable   \n",
       "0  static void ipcomp_free_scratches(void)\\n{\\n\\t...             0  \\\n",
       "1  static void ipcomp_free_scratches(void)\\n{\\n\\t...             1   \n",
       "\n",
       "                                 tokenized_functions  \n",
       "0  [static, void, ipcomp_free_scratches, (, void,...  \n",
       "1  [static, void, ipcomp_free_scratches, (, void,...  "
      ]
     },
     "execution_count": 8,
     "metadata": {},
     "output_type": "execute_result"
    }
   ],
   "source": [
    "df.head(n=2)"
   ]
  },
  {
   "cell_type": "code",
   "execution_count": 9,
   "id": "02ba0d2c",
   "metadata": {},
   "outputs": [
    {
     "data": {
      "text/html": [
       "<div>\n",
       "<style scoped>\n",
       "    .dataframe tbody tr th:only-of-type {\n",
       "        vertical-align: middle;\n",
       "    }\n",
       "\n",
       "    .dataframe tbody tr th {\n",
       "        vertical-align: top;\n",
       "    }\n",
       "\n",
       "    .dataframe thead th {\n",
       "        text-align: right;\n",
       "    }\n",
       "</style>\n",
       "<table border=\"1\" class=\"dataframe\">\n",
       "  <thead>\n",
       "    <tr style=\"text-align: right;\">\n",
       "      <th></th>\n",
       "      <th>function</th>\n",
       "      <th>isVulnerable</th>\n",
       "      <th>tokenized_functions</th>\n",
       "      <th>size</th>\n",
       "    </tr>\n",
       "  </thead>\n",
       "  <tbody>\n",
       "    <tr>\n",
       "      <th>0</th>\n",
       "      <td>static void ipcomp_free_scratches(void)\\n{\\n\\t...</td>\n",
       "      <td>0</td>\n",
       "      <td>[static, void, ipcomp_free_scratches, (, void,...</td>\n",
       "      <td>53</td>\n",
       "    </tr>\n",
       "    <tr>\n",
       "      <th>1</th>\n",
       "      <td>static void ipcomp_free_scratches(void)\\n{\\n\\t...</td>\n",
       "      <td>1</td>\n",
       "      <td>[static, void, ipcomp_free_scratches, (, void,...</td>\n",
       "      <td>49</td>\n",
       "    </tr>\n",
       "    <tr>\n",
       "      <th>2</th>\n",
       "      <td>static void __exit nbd_cleanup(void)\\n{\\n\\tstr...</td>\n",
       "      <td>0</td>\n",
       "      <td>[static, void, __exit, nbd_cleanup, (, void, )...</td>\n",
       "      <td>110</td>\n",
       "    </tr>\n",
       "    <tr>\n",
       "      <th>3</th>\n",
       "      <td>static void __exit nbd_cleanup(void)\\n{\\n\\tstr...</td>\n",
       "      <td>1</td>\n",
       "      <td>[static, void, __exit, nbd_cleanup, (, void, )...</td>\n",
       "      <td>110</td>\n",
       "    </tr>\n",
       "    <tr>\n",
       "      <th>4</th>\n",
       "      <td>struct mcb_bus *mcb_alloc_bus(struct device *c...</td>\n",
       "      <td>0</td>\n",
       "      <td>[struct, mcb_bus, *, mcb_alloc_bus, (, struct,...</td>\n",
       "      <td>171</td>\n",
       "    </tr>\n",
       "  </tbody>\n",
       "</table>\n",
       "</div>"
      ],
      "text/plain": [
       "                                            function  isVulnerable   \n",
       "0  static void ipcomp_free_scratches(void)\\n{\\n\\t...             0  \\\n",
       "1  static void ipcomp_free_scratches(void)\\n{\\n\\t...             1   \n",
       "2  static void __exit nbd_cleanup(void)\\n{\\n\\tstr...             0   \n",
       "3  static void __exit nbd_cleanup(void)\\n{\\n\\tstr...             1   \n",
       "4  struct mcb_bus *mcb_alloc_bus(struct device *c...             0   \n",
       "\n",
       "                                 tokenized_functions  size  \n",
       "0  [static, void, ipcomp_free_scratches, (, void,...    53  \n",
       "1  [static, void, ipcomp_free_scratches, (, void,...    49  \n",
       "2  [static, void, __exit, nbd_cleanup, (, void, )...   110  \n",
       "3  [static, void, __exit, nbd_cleanup, (, void, )...   110  \n",
       "4  [struct, mcb_bus, *, mcb_alloc_bus, (, struct,...   171  "
      ]
     },
     "execution_count": 9,
     "metadata": {},
     "output_type": "execute_result"
    }
   ],
   "source": [
    "df['size'] = df['tokenized_functions'].apply(len)\n",
    "df.head(n=5)"
   ]
  },
  {
   "cell_type": "code",
   "execution_count": 10,
   "id": "079f84d9",
   "metadata": {},
   "outputs": [
    {
     "data": {
      "text/html": [
       "<div>\n",
       "<style scoped>\n",
       "    .dataframe tbody tr th:only-of-type {\n",
       "        vertical-align: middle;\n",
       "    }\n",
       "\n",
       "    .dataframe tbody tr th {\n",
       "        vertical-align: top;\n",
       "    }\n",
       "\n",
       "    .dataframe thead th {\n",
       "        text-align: right;\n",
       "    }\n",
       "</style>\n",
       "<table border=\"1\" class=\"dataframe\">\n",
       "  <thead>\n",
       "    <tr style=\"text-align: right;\">\n",
       "      <th></th>\n",
       "      <th>function</th>\n",
       "      <th>isVulnerable</th>\n",
       "      <th>tokenized_functions</th>\n",
       "      <th>size</th>\n",
       "    </tr>\n",
       "  </thead>\n",
       "  <tbody>\n",
       "    <tr>\n",
       "      <th>11708</th>\n",
       "      <td>static int ext4_fill_super(struct super_block ...</td>\n",
       "      <td>0</td>\n",
       "      <td>[static, int, ext4_fill_super, (, struct, supe...</td>\n",
       "      <td>6270</td>\n",
       "    </tr>\n",
       "    <tr>\n",
       "      <th>11709</th>\n",
       "      <td>static int ext4_fill_super(struct super_block ...</td>\n",
       "      <td>1</td>\n",
       "      <td>[static, int, ext4_fill_super, (, struct, supe...</td>\n",
       "      <td>6266</td>\n",
       "    </tr>\n",
       "    <tr>\n",
       "      <th>15906</th>\n",
       "      <td>static int ext4_fill_super(struct super_block ...</td>\n",
       "      <td>0</td>\n",
       "      <td>[static, int, ext4_fill_super, (, struct, supe...</td>\n",
       "      <td>6215</td>\n",
       "    </tr>\n",
       "  </tbody>\n",
       "</table>\n",
       "</div>"
      ],
      "text/plain": [
       "                                                function  isVulnerable   \n",
       "11708  static int ext4_fill_super(struct super_block ...             0  \\\n",
       "11709  static int ext4_fill_super(struct super_block ...             1   \n",
       "15906  static int ext4_fill_super(struct super_block ...             0   \n",
       "\n",
       "                                     tokenized_functions  size  \n",
       "11708  [static, int, ext4_fill_super, (, struct, supe...  6270  \n",
       "11709  [static, int, ext4_fill_super, (, struct, supe...  6266  \n",
       "15906  [static, int, ext4_fill_super, (, struct, supe...  6215  "
      ]
     },
     "execution_count": 10,
     "metadata": {},
     "output_type": "execute_result"
    }
   ],
   "source": [
    "df.nlargest(3, ['size'])"
   ]
  },
  {
   "cell_type": "code",
   "execution_count": 11,
   "id": "c13ca3d5",
   "metadata": {},
   "outputs": [
    {
     "data": {
      "text/plain": [
       "269.57263325377886"
      ]
     },
     "execution_count": 11,
     "metadata": {},
     "output_type": "execute_result"
    }
   ],
   "source": [
    "df['size'].mean()"
   ]
  },
  {
   "cell_type": "code",
   "execution_count": 16,
   "id": "c2ffaa8e",
   "metadata": {},
   "outputs": [
    {
     "name": "stdout",
     "output_type": "stream",
     "text": [
      "1610\n"
     ]
    }
   ],
   "source": [
    "limit = 700\n",
    "column = df['size']\n",
    "count = column[column > limit].count()\n",
    "print(count)"
   ]
  },
  {
   "cell_type": "code",
   "execution_count": 17,
   "id": "2264df69",
   "metadata": {},
   "outputs": [
    {
     "name": "stdout",
     "output_type": "stream",
     "text": [
      "25140\n"
     ]
    }
   ],
   "source": [
    "print(column.count())"
   ]
  },
  {
   "cell_type": "code",
   "execution_count": 22,
   "id": "7349845e",
   "metadata": {},
   "outputs": [],
   "source": [
    "df2 = df[[i <= 500 for i in df['size']]]"
   ]
  },
  {
   "cell_type": "code",
   "execution_count": 23,
   "id": "7031e0c0",
   "metadata": {},
   "outputs": [
    {
     "name": "stdout",
     "output_type": "stream",
     "text": [
      "function               22024\n",
      "isVulnerable           22024\n",
      "tokenized_functions    22024\n",
      "size                   22024\n",
      "dtype: int64\n"
     ]
    }
   ],
   "source": [
    "print(df2.count())"
   ]
  },
  {
   "cell_type": "code",
   "execution_count": 24,
   "id": "768cc24d",
   "metadata": {},
   "outputs": [
    {
     "data": {
      "text/html": [
       "<div>\n",
       "<style scoped>\n",
       "    .dataframe tbody tr th:only-of-type {\n",
       "        vertical-align: middle;\n",
       "    }\n",
       "\n",
       "    .dataframe tbody tr th {\n",
       "        vertical-align: top;\n",
       "    }\n",
       "\n",
       "    .dataframe thead th {\n",
       "        text-align: right;\n",
       "    }\n",
       "</style>\n",
       "<table border=\"1\" class=\"dataframe\">\n",
       "  <thead>\n",
       "    <tr style=\"text-align: right;\">\n",
       "      <th></th>\n",
       "      <th>function</th>\n",
       "      <th>isVulnerable</th>\n",
       "      <th>tokenized_functions</th>\n",
       "      <th>size</th>\n",
       "    </tr>\n",
       "  </thead>\n",
       "  <tbody>\n",
       "    <tr>\n",
       "      <th>3719</th>\n",
       "      <td>static int raid1_run(struct mddev *mddev)\\n{\\n...</td>\n",
       "      <td>1</td>\n",
       "      <td>[static, int, raid1_run, (, struct, mddev, *, ...</td>\n",
       "      <td>500</td>\n",
       "    </tr>\n",
       "    <tr>\n",
       "      <th>8035</th>\n",
       "      <td>static int pxa3xx_gcu_probe(struct platform_de...</td>\n",
       "      <td>1</td>\n",
       "      <td>[static, int, pxa3xx_gcu_probe, (, struct, pla...</td>\n",
       "      <td>500</td>\n",
       "    </tr>\n",
       "    <tr>\n",
       "      <th>11234</th>\n",
       "      <td>nft_do_chain(struct nft_pktinfo *pkt, void *pr...</td>\n",
       "      <td>0</td>\n",
       "      <td>[nft_do_chain, (, struct, nft_pktinfo, *, pkt,...</td>\n",
       "      <td>500</td>\n",
       "    </tr>\n",
       "  </tbody>\n",
       "</table>\n",
       "</div>"
      ],
      "text/plain": [
       "                                                function  isVulnerable   \n",
       "3719   static int raid1_run(struct mddev *mddev)\\n{\\n...             1  \\\n",
       "8035   static int pxa3xx_gcu_probe(struct platform_de...             1   \n",
       "11234  nft_do_chain(struct nft_pktinfo *pkt, void *pr...             0   \n",
       "\n",
       "                                     tokenized_functions  size  \n",
       "3719   [static, int, raid1_run, (, struct, mddev, *, ...   500  \n",
       "8035   [static, int, pxa3xx_gcu_probe, (, struct, pla...   500  \n",
       "11234  [nft_do_chain, (, struct, nft_pktinfo, *, pkt,...   500  "
      ]
     },
     "execution_count": 24,
     "metadata": {},
     "output_type": "execute_result"
    }
   ],
   "source": [
    "df2.nlargest(3, ['size'])"
   ]
  },
  {
   "cell_type": "code",
   "execution_count": 25,
   "id": "4fb0d882",
   "metadata": {},
   "outputs": [],
   "source": [
    "df2.to_csv('preprocessed_data.csv')"
   ]
  },
  {
   "cell_type": "code",
   "execution_count": 26,
   "id": "add45b58",
   "metadata": {},
   "outputs": [
    {
     "name": "stdout",
     "output_type": "stream",
     "text": [
      "function               22024\n",
      "isVulnerable           22024\n",
      "tokenized_functions    22024\n",
      "size                   22024\n",
      "dtype: int64\n"
     ]
    }
   ],
   "source": [
    "print(df2.count())"
   ]
  },
  {
   "cell_type": "code",
   "execution_count": 28,
   "id": "8ea8bc33",
   "metadata": {},
   "outputs": [],
   "source": [
    "df_distinct['size'] = df_distinct['tokenized_functions'].apply(len)\n",
    "df_distinct = df_distinct[[i <= 500 for i in df_distinct['size']]]"
   ]
  },
  {
   "cell_type": "code",
   "execution_count": 29,
   "id": "9149dc4b",
   "metadata": {},
   "outputs": [
    {
     "data": {
      "text/html": [
       "<div>\n",
       "<style scoped>\n",
       "    .dataframe tbody tr th:only-of-type {\n",
       "        vertical-align: middle;\n",
       "    }\n",
       "\n",
       "    .dataframe tbody tr th {\n",
       "        vertical-align: top;\n",
       "    }\n",
       "\n",
       "    .dataframe thead th {\n",
       "        text-align: right;\n",
       "    }\n",
       "</style>\n",
       "<table border=\"1\" class=\"dataframe\">\n",
       "  <thead>\n",
       "    <tr style=\"text-align: right;\">\n",
       "      <th></th>\n",
       "      <th>function</th>\n",
       "      <th>isVulnerable</th>\n",
       "      <th>tokenized_functions</th>\n",
       "      <th>size</th>\n",
       "    </tr>\n",
       "  </thead>\n",
       "  <tbody>\n",
       "    <tr>\n",
       "      <th>0</th>\n",
       "      <td>static void ipcomp_free_scratches(void)\\n{\\n\\t...</td>\n",
       "      <td>0</td>\n",
       "      <td>[static, void, ipcomp_free_scratches, (, void,...</td>\n",
       "      <td>53</td>\n",
       "    </tr>\n",
       "    <tr>\n",
       "      <th>1</th>\n",
       "      <td>static void ipcomp_free_scratches(void)\\n{\\n\\t...</td>\n",
       "      <td>1</td>\n",
       "      <td>[static, void, ipcomp_free_scratches, (, void,...</td>\n",
       "      <td>49</td>\n",
       "    </tr>\n",
       "    <tr>\n",
       "      <th>2</th>\n",
       "      <td>static void __exit nbd_cleanup(void)\\n{\\n\\tstr...</td>\n",
       "      <td>0</td>\n",
       "      <td>[static, void, __exit, nbd_cleanup, (, void, )...</td>\n",
       "      <td>110</td>\n",
       "    </tr>\n",
       "    <tr>\n",
       "      <th>3</th>\n",
       "      <td>static void __exit nbd_cleanup(void)\\n{\\n\\tstr...</td>\n",
       "      <td>1</td>\n",
       "      <td>[static, void, __exit, nbd_cleanup, (, void, )...</td>\n",
       "      <td>110</td>\n",
       "    </tr>\n",
       "    <tr>\n",
       "      <th>4</th>\n",
       "      <td>struct mcb_bus *mcb_alloc_bus(struct device *c...</td>\n",
       "      <td>0</td>\n",
       "      <td>[struct, mcb_bus, *, mcb_alloc_bus, (, struct,...</td>\n",
       "      <td>171</td>\n",
       "    </tr>\n",
       "  </tbody>\n",
       "</table>\n",
       "</div>"
      ],
      "text/plain": [
       "                                            function  isVulnerable   \n",
       "0  static void ipcomp_free_scratches(void)\\n{\\n\\t...             0  \\\n",
       "1  static void ipcomp_free_scratches(void)\\n{\\n\\t...             1   \n",
       "2  static void __exit nbd_cleanup(void)\\n{\\n\\tstr...             0   \n",
       "3  static void __exit nbd_cleanup(void)\\n{\\n\\tstr...             1   \n",
       "4  struct mcb_bus *mcb_alloc_bus(struct device *c...             0   \n",
       "\n",
       "                                 tokenized_functions  size  \n",
       "0  [static, void, ipcomp_free_scratches, (, void,...    53  \n",
       "1  [static, void, ipcomp_free_scratches, (, void,...    49  \n",
       "2  [static, void, __exit, nbd_cleanup, (, void, )...   110  \n",
       "3  [static, void, __exit, nbd_cleanup, (, void, )...   110  \n",
       "4  [struct, mcb_bus, *, mcb_alloc_bus, (, struct,...   171  "
      ]
     },
     "execution_count": 29,
     "metadata": {},
     "output_type": "execute_result"
    }
   ],
   "source": [
    "df_distinct.to_csv('distinct_data.csv')\n",
    "df_distinct.head(n=5)"
   ]
  },
  {
   "cell_type": "code",
   "execution_count": 30,
   "id": "bc93c7a1",
   "metadata": {},
   "outputs": [
    {
     "name": "stdout",
     "output_type": "stream",
     "text": [
      "function               7568\n",
      "isVulnerable           7568\n",
      "tokenized_functions    7568\n",
      "size                   7568\n",
      "dtype: int64\n"
     ]
    }
   ],
   "source": [
    "print(df_distinct.count())"
   ]
  },
  {
   "cell_type": "code",
   "execution_count": null,
   "id": "884393cc",
   "metadata": {},
   "outputs": [],
   "source": []
  }
 ],
 "metadata": {
  "kernelspec": {
   "display_name": "Python 3 (ipykernel)",
   "language": "python",
   "name": "python3"
  },
  "language_info": {
   "codemirror_mode": {
    "name": "ipython",
    "version": 3
   },
   "file_extension": ".py",
   "mimetype": "text/x-python",
   "name": "python",
   "nbconvert_exporter": "python",
   "pygments_lexer": "ipython3",
   "version": "3.8.10"
  }
 },
 "nbformat": 4,
 "nbformat_minor": 5
}
